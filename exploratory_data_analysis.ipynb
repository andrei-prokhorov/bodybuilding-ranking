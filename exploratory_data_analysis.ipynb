{
 "cells": [
  {
   "cell_type": "markdown",
   "metadata": {},
   "source": [
    "# Data loading"
   ]
  },
  {
   "cell_type": "code",
   "execution_count": 1,
   "metadata": {},
   "outputs": [],
   "source": [
    "import pandas as pd\n",
    "import zipfile"
   ]
  },
  {
   "cell_type": "code",
   "execution_count": 2,
   "metadata": {},
   "outputs": [],
   "source": [
    "with zipfile.ZipFile('data/contest_results.csv.zip', 'r') as zip_ref:\n",
    "    zip_ref.extractall('data')"
   ]
  },
  {
   "cell_type": "code",
   "execution_count": 4,
   "metadata": {},
   "outputs": [],
   "source": [
    "data = pd.read_csv('data/contest_results.csv', parse_dates=[\"contest_date\"])"
   ]
  },
  {
   "cell_type": "code",
   "execution_count": 5,
   "metadata": {},
   "outputs": [
    {
     "data": {
      "text/html": [
       "<div>\n",
       "<style scoped>\n",
       "    .dataframe tbody tr th:only-of-type {\n",
       "        vertical-align: middle;\n",
       "    }\n",
       "\n",
       "    .dataframe tbody tr th {\n",
       "        vertical-align: top;\n",
       "    }\n",
       "\n",
       "    .dataframe thead th {\n",
       "        text-align: right;\n",
       "    }\n",
       "</style>\n",
       "<table border=\"1\" class=\"dataframe\">\n",
       "  <thead>\n",
       "    <tr style=\"text-align: right;\">\n",
       "      <th></th>\n",
       "      <th>contest_url</th>\n",
       "      <th>competitor_name</th>\n",
       "      <th>competitor_url</th>\n",
       "      <th>organization</th>\n",
       "      <th>contest_name</th>\n",
       "      <th>contest_date</th>\n",
       "      <th>division</th>\n",
       "      <th>class</th>\n",
       "      <th>placing</th>\n",
       "      <th>scraped_timestamp</th>\n",
       "      <th>is_loaded</th>\n",
       "    </tr>\n",
       "  </thead>\n",
       "  <tbody>\n",
       "    <tr>\n",
       "      <th>0</th>\n",
       "      <td>https://contests.npcnewsonline.com/contests/20...</td>\n",
       "      <td>laura mcintosh</td>\n",
       "      <td>https://contests.npcnewsonline.com/contests/20...</td>\n",
       "      <td>cpa</td>\n",
       "      <td>cpa fedel clarke classic</td>\n",
       "      <td>2018-03-25</td>\n",
       "      <td>bikini</td>\n",
       "      <td>class a</td>\n",
       "      <td>6.0</td>\n",
       "      <td>2023-11-07 03:47:46.494501 UTC</td>\n",
       "      <td>False</td>\n",
       "    </tr>\n",
       "    <tr>\n",
       "      <th>1</th>\n",
       "      <td>https://contests.npcnewsonline.com/contests/20...</td>\n",
       "      <td>tasha chase</td>\n",
       "      <td>https://contests.npcnewsonline.com/contests/20...</td>\n",
       "      <td>cpa</td>\n",
       "      <td>cpa fedel clarke classic</td>\n",
       "      <td>2018-03-25</td>\n",
       "      <td>bikini</td>\n",
       "      <td>class a</td>\n",
       "      <td>5.0</td>\n",
       "      <td>2023-11-07 03:47:46.494 UTC</td>\n",
       "      <td>False</td>\n",
       "    </tr>\n",
       "    <tr>\n",
       "      <th>2</th>\n",
       "      <td>https://contests.npcnewsonline.com/contests/20...</td>\n",
       "      <td>sarah farrer</td>\n",
       "      <td>https://contests.npcnewsonline.com/contests/20...</td>\n",
       "      <td>cpa</td>\n",
       "      <td>cpa fedel clarke classic</td>\n",
       "      <td>2018-03-25</td>\n",
       "      <td>bikini</td>\n",
       "      <td>class a</td>\n",
       "      <td>4.0</td>\n",
       "      <td>2023-11-07 03:47:46.493408 UTC</td>\n",
       "      <td>False</td>\n",
       "    </tr>\n",
       "    <tr>\n",
       "      <th>3</th>\n",
       "      <td>https://contests.npcnewsonline.com/contests/20...</td>\n",
       "      <td>neha dhanda</td>\n",
       "      <td>https://contests.npcnewsonline.com/contests/20...</td>\n",
       "      <td>cpa</td>\n",
       "      <td>cpa fedel clarke classic</td>\n",
       "      <td>2018-03-25</td>\n",
       "      <td>bikini</td>\n",
       "      <td>class a</td>\n",
       "      <td>3.0</td>\n",
       "      <td>2023-11-07 03:47:46.492877 UTC</td>\n",
       "      <td>False</td>\n",
       "    </tr>\n",
       "    <tr>\n",
       "      <th>4</th>\n",
       "      <td>https://contests.npcnewsonline.com/contests/20...</td>\n",
       "      <td>reina espineli</td>\n",
       "      <td>https://contests.npcnewsonline.com/contests/20...</td>\n",
       "      <td>cpa</td>\n",
       "      <td>cpa fedel clarke classic</td>\n",
       "      <td>2018-03-25</td>\n",
       "      <td>bikini</td>\n",
       "      <td>class a</td>\n",
       "      <td>2.0</td>\n",
       "      <td>2023-11-07 03:47:46.492311 UTC</td>\n",
       "      <td>False</td>\n",
       "    </tr>\n",
       "  </tbody>\n",
       "</table>\n",
       "</div>"
      ],
      "text/plain": [
       "                                         contest_url competitor_name  \\\n",
       "0  https://contests.npcnewsonline.com/contests/20...  laura mcintosh   \n",
       "1  https://contests.npcnewsonline.com/contests/20...     tasha chase   \n",
       "2  https://contests.npcnewsonline.com/contests/20...    sarah farrer   \n",
       "3  https://contests.npcnewsonline.com/contests/20...     neha dhanda   \n",
       "4  https://contests.npcnewsonline.com/contests/20...  reina espineli   \n",
       "\n",
       "                                      competitor_url organization  \\\n",
       "0  https://contests.npcnewsonline.com/contests/20...          cpa   \n",
       "1  https://contests.npcnewsonline.com/contests/20...          cpa   \n",
       "2  https://contests.npcnewsonline.com/contests/20...          cpa   \n",
       "3  https://contests.npcnewsonline.com/contests/20...          cpa   \n",
       "4  https://contests.npcnewsonline.com/contests/20...          cpa   \n",
       "\n",
       "               contest_name contest_date division    class  placing  \\\n",
       "0  cpa fedel clarke classic   2018-03-25   bikini  class a      6.0   \n",
       "1  cpa fedel clarke classic   2018-03-25   bikini  class a      5.0   \n",
       "2  cpa fedel clarke classic   2018-03-25   bikini  class a      4.0   \n",
       "3  cpa fedel clarke classic   2018-03-25   bikini  class a      3.0   \n",
       "4  cpa fedel clarke classic   2018-03-25   bikini  class a      2.0   \n",
       "\n",
       "                scraped_timestamp  is_loaded  \n",
       "0  2023-11-07 03:47:46.494501 UTC      False  \n",
       "1     2023-11-07 03:47:46.494 UTC      False  \n",
       "2  2023-11-07 03:47:46.493408 UTC      False  \n",
       "3  2023-11-07 03:47:46.492877 UTC      False  \n",
       "4  2023-11-07 03:47:46.492311 UTC      False  "
      ]
     },
     "execution_count": 5,
     "metadata": {},
     "output_type": "execute_result"
    }
   ],
   "source": [
    "data.head()"
   ]
  },
  {
   "cell_type": "markdown",
   "metadata": {},
   "source": [
    "# Quick facts"
   ]
  },
  {
   "cell_type": "code",
   "execution_count": 12,
   "metadata": {},
   "outputs": [
    {
     "name": "stdout",
     "output_type": "stream",
     "text": [
      "Oldest competition on record: 2012-02-18 00:00:00\n",
      "Most recent competition on record: 2024-03-17 00:00:00\n"
     ]
    }
   ],
   "source": [
    "# date range of records\n",
    "print(f'Oldest competition on record: {data[\"contest_date\"].min()}')\n",
    "print(f'Most recent competition on record: {data[\"contest_date\"].max()}')"
   ]
  },
  {
   "cell_type": "code",
   "execution_count": 17,
   "metadata": {},
   "outputs": [
    {
     "name": "stdout",
     "output_type": "stream",
     "text": [
      "\n",
      "      Records of 4093 distinct competitions,\n",
      "      214314 distinct competitors,\n",
      "      and 783707 distinct contest entries.\n",
      "      \n"
     ]
    }
   ],
   "source": [
    "# number of competitions on record\n",
    "print(f\"\"\"\n",
    "      Records of {data[\"contest_url\"].nunique()} distinct competitions,\n",
    "      {data['competitor_name'].nunique()} distinct competitors,\n",
    "      and {len(data)} distinct contest entries.\n",
    "      \"\"\")"
   ]
  },
  {
   "cell_type": "code",
   "execution_count": 63,
   "metadata": {},
   "outputs": [
    {
     "name": "stdout",
     "output_type": "stream",
     "text": [
      "\n",
      "      Dataset contains 5812 pro card wins.\n",
      "      There are 17315 professional competitors on record.\n",
      "\n"
     ]
    }
   ],
   "source": [
    "# number of records of pro card wins\n",
    "print(\n",
    "    f\"\"\"\n",
    "      Dataset contains {data['class'].str.contains('pro card').sum()} pro card wins.\n",
    "      There are {data[\n",
    "    (data[\"class\"].str.contains(\"pro card\")) | (data[\"organization\"] == \"ifbb\")\n",
    "][\"competitor_name\"].nunique()} professional competitors on record.\n",
    "\"\"\"\n",
    ")"
   ]
  },
  {
   "cell_type": "markdown",
   "metadata": {},
   "source": [
    "# Distribution facts"
   ]
  },
  {
   "cell_type": "code",
   "execution_count": 19,
   "metadata": {},
   "outputs": [
    {
     "data": {
      "text/plain": [
       "organization\n",
       "npc     616391\n",
       "npcw     92896\n",
       "ifbb     57393\n",
       "cpa      17027\n",
       "Name: count, dtype: int64"
      ]
     },
     "execution_count": 19,
     "metadata": {},
     "output_type": "execute_result"
    }
   ],
   "source": [
    "# most entries are for the NPC organization\n",
    "data[\"organization\"].value_counts()"
   ]
  },
  {
   "cell_type": "code",
   "execution_count": 40,
   "metadata": {},
   "outputs": [],
   "source": [
    "pro_quals = data[data[\"class\"].str.contains(\"pro card\")][\"contest_name\"]"
   ]
  },
  {
   "cell_type": "code",
   "execution_count": 41,
   "metadata": {},
   "outputs": [],
   "source": [
    "# create pro qualifier column\n",
    "data[\"pro_qualifier\"] = False\n",
    "data.loc[data[\"contest_name\"].isin(pro_quals), \"pro_qualifier\"] = True"
   ]
  },
  {
   "cell_type": "code",
   "execution_count": 42,
   "metadata": {},
   "outputs": [
    {
     "data": {
      "text/plain": [
       "34"
      ]
     },
     "execution_count": 42,
     "metadata": {},
     "output_type": "execute_result"
    }
   ],
   "source": [
    "# number of pro-qualifer competitions in 2023\n",
    "data[(data['pro_qualifier']) &\n",
    "     (data['contest_date'].dt.year == 2023)][\"contest_name\"].nunique()"
   ]
  },
  {
   "cell_type": "code",
   "execution_count": 44,
   "metadata": {},
   "outputs": [
    {
     "data": {
      "text/plain": [
       "contest_name                                          pro_qualifier\n",
       "npc teen collegiate & masters national championships  True             15953\n",
       "npc national championships                            True             10901\n",
       "npc north american championships                      True             10698\n",
       "npc usa championships                                 True              8668\n",
       "npc universe championships                            True              6081\n",
       "npc junior nationals                                  True              5954\n",
       "npc emerald cup                                       False             5689\n",
       "npc universe & npc national fitness championships     True              5509\n",
       "npc junior usa championships                          True              4969\n",
       "npc midwest championships                             False             4614\n",
       "dtype: int64"
      ]
     },
     "execution_count": 44,
     "metadata": {},
     "output_type": "execute_result"
    }
   ],
   "source": [
    "# pro qualifier competitions have the most contest entries\n",
    "data[data[\"organization\"] == \"npc\"].groupby(\n",
    "    by=[\"contest_name\", \"pro_qualifier\"]\n",
    ").size().sort_values(ascending=False).head(10)"
   ]
  },
  {
   "cell_type": "code",
   "execution_count": 45,
   "metadata": {},
   "outputs": [
    {
     "data": {
      "text/plain": [
       "division\n",
       "bikini                    244135\n",
       "men's physique            184536\n",
       "men's bodybuilding        104988\n",
       "figure                     99596\n",
       "men's classic physique     86265\n",
       "women's physique           25755\n",
       "wellness                   19884\n",
       "women's wellness            8661\n",
       "women's bodybuilding        4661\n",
       "fitness                     3120\n",
       "212                         2106\n",
       "Name: count, dtype: int64"
      ]
     },
     "execution_count": 45,
     "metadata": {},
     "output_type": "execute_result"
    }
   ],
   "source": [
    "# women's bikini is the most popular division\n",
    "data[\"division\"].value_counts()"
   ]
  },
  {
   "cell_type": "code",
   "execution_count": 61,
   "metadata": {},
   "outputs": [
    {
     "name": "stdout",
     "output_type": "stream",
     "text": [
      "\n",
      "      Total number of distinct classes:\n",
      "      1248\n",
      "      \n"
     ]
    }
   ],
   "source": [
    "# number of distinct classes\n",
    "# ifbb has only open and master's classes\n",
    "print(\n",
    "    f\"\"\"\n",
    "      Total number of distinct classes:\n",
    "      {data[\"class\"].nunique()}\n",
    "      \"\"\"\n",
    ")"
   ]
  },
  {
   "cell_type": "code",
   "execution_count": 60,
   "metadata": {},
   "outputs": [
    {
     "data": {
      "text/plain": [
       "class\n",
       "class b    76626\n",
       "class a    72164\n",
       "class c    63720\n",
       "class d    44539\n",
       "class e    17132\n",
       "class f    16579\n",
       "class h     4098\n",
       "class g     3375\n",
       "class j        7\n",
       "class i        6\n",
       "Name: count, dtype: int64"
      ]
     },
     "execution_count": 60,
     "metadata": {},
     "output_type": "execute_result"
    }
   ],
   "source": [
    "# distribution of height-based classes\n",
    "data[data[\"class\"].str.startswith(\"class \")][\"class\"].value_counts()"
   ]
  }
 ],
 "metadata": {
  "kernelspec": {
   "display_name": "ERDOS",
   "language": "python",
   "name": "python3"
  },
  "language_info": {
   "codemirror_mode": {
    "name": "ipython",
    "version": 3
   },
   "file_extension": ".py",
   "mimetype": "text/x-python",
   "name": "python",
   "nbconvert_exporter": "python",
   "pygments_lexer": "ipython3",
   "version": "3.12.1"
  }
 },
 "nbformat": 4,
 "nbformat_minor": 2
}
