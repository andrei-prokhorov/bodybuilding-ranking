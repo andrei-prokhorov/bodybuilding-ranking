{
 "cells": [
  {
   "cell_type": "code",
   "execution_count": 3,
   "metadata": {},
   "outputs": [],
   "source": [
    "import pandas as pd\n",
    "import zipfile\n",
    "import trueskill\n",
    "import matplotlib.pyplot as plt"
   ]
  },
  {
   "cell_type": "code",
   "execution_count": 28,
   "metadata": {},
   "outputs": [],
   "source": [
    "with zipfile.ZipFile('data/contest_results.csv.zip', 'r') as zip_ref:\n",
    "    zip_ref.extractall('extracted_files')\n",
    "\n",
    "df = pd.read_csv('./extracted_files/contest_results.csv', parse_dates=['contest_date'])\n",
    "df.loc[df['placing'] > 16, 'placing'] = 16\n",
    "df = df[['organization', 'contest_name', 'contest_date', 'division', 'class', 'competitor_name', 'placing']]\n",
    "df.loc[df[\"division\"] == \"women\\'s wellness\", \"division\"] = \"wellness\"\n",
    "df = df.dropna()"
   ]
  },
  {
   "cell_type": "markdown",
   "metadata": {},
   "source": [
    "# TrueSkill Rating Column\n",
    "Here we will create a column in df that is the competitor's TrueSkill rating leading up to that competition."
   ]
  },
  {
   "cell_type": "code",
   "execution_count": 29,
   "metadata": {},
   "outputs": [],
   "source": [
    "df = df.sort_values(\n",
    "    by=[\n",
    "        \"contest_date\",\n",
    "        \"organization\",\n",
    "        \"contest_name\",\n",
    "        \"division\",\n",
    "        \"class\",\n",
    "        \"placing\",\n",
    "        \"competitor_name\"\n",
    "    ],\n",
    "    ascending=True,\n",
    ")"
   ]
  },
  {
   "cell_type": "code",
   "execution_count": 34,
   "metadata": {},
   "outputs": [],
   "source": [
    "competitors = {}\n",
    "\n",
    "for contest_date in df[\"contest_date\"].unique():\n",
    "    df_dt = df[df['contest_date'] == contest_date]\n",
    "    for org in df_dt[\"organization\"].unique():\n",
    "        df_org = df_dt[df_dt['organization'] == org]\n",
    "        for contest_name in df_org[\"contest_name\"].unique():\n",
    "            df_ctst = df_org[df_org[\"contest_name\"] == contest_name]\n",
    "            for div in df_ctst[\"division\"].unique():\n",
    "                df_div = df_ctst[df_ctst[\"division\"] == div]\n",
    "                for clss in df_div[\"class\"].unique():\n",
    "                    df_temp = df_div[df_div[\"class\"] == clss]\n",
    "                    if len(df_temp) < 2:\n",
    "                        continue\n",
    "                    ts_competitors = []\n",
    "                    rankings = []\n",
    "                    for index, row in df_temp.iterrows():\n",
    "                        name = row[\"competitor_name\"]\n",
    "                        rank = row[\"placing\"]\n",
    "                        if name not in competitors:\n",
    "                            competitors[name] = trueskill.Rating()\n",
    "                        df.loc[index, \"trueskill_rating\"] = competitors[name].mu\n",
    "                        ts_competitors.append([competitors[name]])\n",
    "                        rankings.append(rank)\n",
    "                    out = trueskill.rate(ts_competitors, ranks=rankings)\n",
    "                    i = 0\n",
    "                    for index, row in df_temp.iterrows():\n",
    "                        name = row[\"competitor_name\"]\n",
    "                        competitors[name] = out[i][0]\n",
    "                        i += 1"
   ]
  },
  {
   "cell_type": "code",
   "execution_count": 35,
   "metadata": {},
   "outputs": [],
   "source": [
    "df[\"trueskill_rank\"] = df.groupby(\n",
    "    [\"organization\", \"contest_date\", \"contest_name\", \"division\", \"class\"]\n",
    ")[\"trueskill_rating\"].rank(ascending=False, method=\"first\")\n",
    "df.loc[df[\"trueskill_rank\"] > 16, \"trueskill_rank\"] = 16"
   ]
  },
  {
   "cell_type": "code",
   "execution_count": 36,
   "metadata": {},
   "outputs": [
    {
     "data": {
      "text/plain": [
       "<matplotlib.collections.PathCollection at 0x29d245120>"
      ]
     },
     "execution_count": 36,
     "metadata": {},
     "output_type": "execute_result"
    },
    {
     "data": {
      "image/png": "[encoded data removed]",
      "text/plain": [
       "<Figure size 640x480 with 1 Axes>"
      ]
     },
     "metadata": {},
     "output_type": "display_data"
    }
   ],
   "source": [
    "plt.scatter(df[df['competitor_name'] == 'ashley kaltwasser']['contest_date'],\n",
    "            df[df['competitor_name'] == 'ashley kaltwasser'][f'trueskill_rating'])"
   ]
  },
  {
   "cell_type": "code",
   "execution_count": 37,
   "metadata": {},
   "outputs": [
    {
     "data": {
      "text/html": [
       "<div>\n",
       "<style scoped>\n",
       "    .dataframe tbody tr th:only-of-type {\n",
       "        vertical-align: middle;\n",
       "    }\n",
       "\n",
       "    .dataframe tbody tr th {\n",
       "        vertical-align: top;\n",
       "    }\n",
       "\n",
       "    .dataframe thead th {\n",
       "        text-align: right;\n",
       "    }\n",
       "</style>\n",
       "<table border=\"1\" class=\"dataframe\">\n",
       "  <thead>\n",
       "    <tr style=\"text-align: right;\">\n",
       "      <th></th>\n",
       "      <th>organization</th>\n",
       "      <th>contest_name</th>\n",
       "      <th>contest_date</th>\n",
       "      <th>division</th>\n",
       "      <th>class</th>\n",
       "      <th>competitor_name</th>\n",
       "      <th>placing</th>\n",
       "      <th>trueskill_rating</th>\n",
       "      <th>trueskill_rank</th>\n",
       "    </tr>\n",
       "  </thead>\n",
       "  <tbody>\n",
       "    <tr>\n",
       "      <th>17038</th>\n",
       "      <td>ifbb</td>\n",
       "      <td>ifbb flex pro</td>\n",
       "      <td>2012-02-18</td>\n",
       "      <td>fitness</td>\n",
       "      <td>open</td>\n",
       "      <td>adela garcia</td>\n",
       "      <td>1.0</td>\n",
       "      <td>25.0</td>\n",
       "      <td>1.0</td>\n",
       "    </tr>\n",
       "    <tr>\n",
       "      <th>17037</th>\n",
       "      <td>ifbb</td>\n",
       "      <td>ifbb flex pro</td>\n",
       "      <td>2012-02-18</td>\n",
       "      <td>fitness</td>\n",
       "      <td>open</td>\n",
       "      <td>oksana grishina</td>\n",
       "      <td>2.0</td>\n",
       "      <td>25.0</td>\n",
       "      <td>2.0</td>\n",
       "    </tr>\n",
       "    <tr>\n",
       "      <th>17036</th>\n",
       "      <td>ifbb</td>\n",
       "      <td>ifbb flex pro</td>\n",
       "      <td>2012-02-18</td>\n",
       "      <td>fitness</td>\n",
       "      <td>open</td>\n",
       "      <td>myriam capes</td>\n",
       "      <td>3.0</td>\n",
       "      <td>25.0</td>\n",
       "      <td>3.0</td>\n",
       "    </tr>\n",
       "    <tr>\n",
       "      <th>17035</th>\n",
       "      <td>ifbb</td>\n",
       "      <td>ifbb flex pro</td>\n",
       "      <td>2012-02-18</td>\n",
       "      <td>fitness</td>\n",
       "      <td>open</td>\n",
       "      <td>tanji johnson</td>\n",
       "      <td>4.0</td>\n",
       "      <td>25.0</td>\n",
       "      <td>4.0</td>\n",
       "    </tr>\n",
       "    <tr>\n",
       "      <th>17034</th>\n",
       "      <td>ifbb</td>\n",
       "      <td>ifbb flex pro</td>\n",
       "      <td>2012-02-18</td>\n",
       "      <td>fitness</td>\n",
       "      <td>open</td>\n",
       "      <td>bethany wagner</td>\n",
       "      <td>5.0</td>\n",
       "      <td>25.0</td>\n",
       "      <td>5.0</td>\n",
       "    </tr>\n",
       "  </tbody>\n",
       "</table>\n",
       "</div>"
      ],
      "text/plain": [
       "      organization   contest_name contest_date division class  \\\n",
       "17038         ifbb  ifbb flex pro   2012-02-18  fitness  open   \n",
       "17037         ifbb  ifbb flex pro   2012-02-18  fitness  open   \n",
       "17036         ifbb  ifbb flex pro   2012-02-18  fitness  open   \n",
       "17035         ifbb  ifbb flex pro   2012-02-18  fitness  open   \n",
       "17034         ifbb  ifbb flex pro   2012-02-18  fitness  open   \n",
       "\n",
       "       competitor_name  placing  trueskill_rating  trueskill_rank  \n",
       "17038     adela garcia      1.0              25.0             1.0  \n",
       "17037  oksana grishina      2.0              25.0             2.0  \n",
       "17036     myriam capes      3.0              25.0             3.0  \n",
       "17035    tanji johnson      4.0              25.0             4.0  \n",
       "17034   bethany wagner      5.0              25.0             5.0  "
      ]
     },
     "execution_count": 37,
     "metadata": {},
     "output_type": "execute_result"
    }
   ],
   "source": [
    "df.head()"
   ]
  },
  {
   "cell_type": "code",
   "execution_count": 38,
   "metadata": {},
   "outputs": [],
   "source": [
    "df.to_csv('contest_results_trueskill.csv')"
   ]
  },
  {
   "cell_type": "code",
   "execution_count": null,
   "metadata": {},
   "outputs": [],
   "source": []
  }
 ],
 "metadata": {
  "kernelspec": {
   "display_name": ".venv",
   "language": "python",
   "name": "python3"
  },
  "language_info": {
   "codemirror_mode": {
    "name": "ipython",
    "version": 3
   },
   "file_extension": ".py",
   "mimetype": "text/x-python",
   "name": "python",
   "nbconvert_exporter": "python",
   "pygments_lexer": "ipython3",
   "version": "3.10.12"
  }
 },
 "nbformat": 4,
 "nbformat_minor": 2
}
