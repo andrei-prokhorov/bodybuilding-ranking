{
 "cells": [
  {
   "cell_type": "code",
   "execution_count": 1,
   "metadata": {},
   "outputs": [],
   "source": [
    "import pandas as pd\n",
    "import zipfile\n",
    "from elopy.elo import Elo\n",
    "import matplotlib.pyplot as plt"
   ]
  },
  {
   "cell_type": "code",
   "execution_count": 2,
   "metadata": {},
   "outputs": [],
   "source": [
    "with zipfile.ZipFile('data/contest_results.csv.zip', 'r') as zip_ref:\n",
    "    zip_ref.extractall('extracted_files')\n",
    "\n",
    "df = pd.read_csv('./extracted_files/contest_results.csv', parse_dates=['contest_date'])\n",
    "df.loc[df['placing'] > 16, 'placing'] = 16\n",
    "df = df[['organization', 'contest_name', 'contest_date', 'division', 'class', 'competitor_name', 'placing']]\n",
    "df.loc[df[\"division\"] == \"women\\'s wellness\", \"division\"] = \"wellness\"\n",
    "df = df.dropna()"
   ]
  },
  {
   "cell_type": "code",
   "execution_count": 3,
   "metadata": {},
   "outputs": [],
   "source": [
    "# every pair of competitors from the same show & division get a row\n",
    "# think of this as a \"match\" in chess\n",
    "df_merge = pd.merge(df,\n",
    "                    df,\n",
    "                    on=['organization', 'contest_name', 'contest_date', 'division', 'class'],\n",
    "                    how='inner',\n",
    "                    suffixes=('_winner', '_loser'))"
   ]
  },
  {
   "cell_type": "code",
   "execution_count": 4,
   "metadata": {},
   "outputs": [
    {
     "data": {
      "text/html": [
       "<div>\n",
       "<style scoped>\n",
       "    .dataframe tbody tr th:only-of-type {\n",
       "        vertical-align: middle;\n",
       "    }\n",
       "\n",
       "    .dataframe tbody tr th {\n",
       "        vertical-align: top;\n",
       "    }\n",
       "\n",
       "    .dataframe thead th {\n",
       "        text-align: right;\n",
       "    }\n",
       "</style>\n",
       "<table border=\"1\" class=\"dataframe\">\n",
       "  <thead>\n",
       "    <tr style=\"text-align: right;\">\n",
       "      <th></th>\n",
       "      <th>organization</th>\n",
       "      <th>contest_name</th>\n",
       "      <th>contest_date</th>\n",
       "      <th>division</th>\n",
       "      <th>class</th>\n",
       "      <th>competitor_name_winner</th>\n",
       "      <th>placing_winner</th>\n",
       "      <th>competitor_name_loser</th>\n",
       "      <th>placing_loser</th>\n",
       "    </tr>\n",
       "  </thead>\n",
       "  <tbody>\n",
       "    <tr>\n",
       "      <th>6</th>\n",
       "      <td>cpa</td>\n",
       "      <td>cpa fedel clarke classic</td>\n",
       "      <td>2018-03-25</td>\n",
       "      <td>bikini</td>\n",
       "      <td>class a</td>\n",
       "      <td>tasha chase</td>\n",
       "      <td>5.0</td>\n",
       "      <td>laura mcintosh</td>\n",
       "      <td>6.0</td>\n",
       "    </tr>\n",
       "    <tr>\n",
       "      <th>12</th>\n",
       "      <td>cpa</td>\n",
       "      <td>cpa fedel clarke classic</td>\n",
       "      <td>2018-03-25</td>\n",
       "      <td>bikini</td>\n",
       "      <td>class a</td>\n",
       "      <td>sarah farrer</td>\n",
       "      <td>4.0</td>\n",
       "      <td>laura mcintosh</td>\n",
       "      <td>6.0</td>\n",
       "    </tr>\n",
       "    <tr>\n",
       "      <th>13</th>\n",
       "      <td>cpa</td>\n",
       "      <td>cpa fedel clarke classic</td>\n",
       "      <td>2018-03-25</td>\n",
       "      <td>bikini</td>\n",
       "      <td>class a</td>\n",
       "      <td>sarah farrer</td>\n",
       "      <td>4.0</td>\n",
       "      <td>tasha chase</td>\n",
       "      <td>5.0</td>\n",
       "    </tr>\n",
       "    <tr>\n",
       "      <th>18</th>\n",
       "      <td>cpa</td>\n",
       "      <td>cpa fedel clarke classic</td>\n",
       "      <td>2018-03-25</td>\n",
       "      <td>bikini</td>\n",
       "      <td>class a</td>\n",
       "      <td>neha dhanda</td>\n",
       "      <td>3.0</td>\n",
       "      <td>laura mcintosh</td>\n",
       "      <td>6.0</td>\n",
       "    </tr>\n",
       "    <tr>\n",
       "      <th>19</th>\n",
       "      <td>cpa</td>\n",
       "      <td>cpa fedel clarke classic</td>\n",
       "      <td>2018-03-25</td>\n",
       "      <td>bikini</td>\n",
       "      <td>class a</td>\n",
       "      <td>neha dhanda</td>\n",
       "      <td>3.0</td>\n",
       "      <td>tasha chase</td>\n",
       "      <td>5.0</td>\n",
       "    </tr>\n",
       "  </tbody>\n",
       "</table>\n",
       "</div>"
      ],
      "text/plain": [
       "   organization              contest_name contest_date division    class  \\\n",
       "6           cpa  cpa fedel clarke classic   2018-03-25   bikini  class a   \n",
       "12          cpa  cpa fedel clarke classic   2018-03-25   bikini  class a   \n",
       "13          cpa  cpa fedel clarke classic   2018-03-25   bikini  class a   \n",
       "18          cpa  cpa fedel clarke classic   2018-03-25   bikini  class a   \n",
       "19          cpa  cpa fedel clarke classic   2018-03-25   bikini  class a   \n",
       "\n",
       "   competitor_name_winner  placing_winner competitor_name_loser  placing_loser  \n",
       "6             tasha chase             5.0        laura mcintosh            6.0  \n",
       "12           sarah farrer             4.0        laura mcintosh            6.0  \n",
       "13           sarah farrer             4.0           tasha chase            5.0  \n",
       "18            neha dhanda             3.0        laura mcintosh            6.0  \n",
       "19            neha dhanda             3.0           tasha chase            5.0  "
      ]
     },
     "execution_count": 4,
     "metadata": {},
     "output_type": "execute_result"
    }
   ],
   "source": [
    "df_merge = df_merge[df_merge['placing_winner'] < df_merge['placing_loser']]\n",
    "df_merge.head()"
   ]
  },
  {
   "cell_type": "markdown",
   "metadata": {},
   "source": [
    "# Elo Rating Column\n",
    "Here we will create a column in df_merge which includes the competitor's Elo rating leading up to that competition."
   ]
  },
  {
   "cell_type": "code",
   "execution_count": 5,
   "metadata": {},
   "outputs": [],
   "source": [
    "df = df.sort_values(\n",
    "    by=[\n",
    "        \"contest_date\",\n",
    "        \"organization\",\n",
    "        \"contest_name\",\n",
    "        \"division\",\n",
    "        \"class\",\n",
    "        \"competitor_name\"\n",
    "    ],\n",
    "    ascending=True,\n",
    ")"
   ]
  },
  {
   "cell_type": "code",
   "execution_count": 6,
   "metadata": {},
   "outputs": [],
   "source": [
    "competitors = {}\n",
    "starting_elo = {\"bikini\": 1767,\n",
    "                \"figure\": 1616,\n",
    "                \"fitness\": 1516,\n",
    "                \"men\\'s bodybuilding\": 1651,\n",
    "                \"men\\'s classic physique\": 1691,\n",
    "                \"men\\'s physique\": 1688,\n",
    "                \"wellness\": 1612,\n",
    "                \"women\\'s bodybuilding\": 1570,\n",
    "                \"women\\'s physique\": 1547,\n",
    "                \"212\": 1651}\n",
    "\n",
    "for contest_date in df[\"contest_date\"].unique():\n",
    "    for index, row in df[df[\"contest_date\"] == contest_date].iterrows():\n",
    "\n",
    "        if row[\"competitor_name\"] not in competitors:\n",
    "            if row[\"organization\"] != \"ifbb\":\n",
    "                competitors[row[\"competitor_name\"]] = Elo(hca = 0)\n",
    "            else:\n",
    "                div = row[\"division\"]\n",
    "                competitors[row[\"competitor_name\"]] = Elo(start_elo=starting_elo[div], hca = 0)\n",
    "        df.loc[index, f\"elo_rating\"] = competitors[row[\"competitor_name\"]].elo\n",
    "\n",
    "    for index, row in df_merge[df_merge[\"contest_date\"] == contest_date].iterrows():\n",
    "        winner = row[\"competitor_name_winner\"]\n",
    "        loser = row[\"competitor_name_loser\"]\n",
    "        rank_diff = row[\"placing_loser\"] - row[\"placing_winner\"]\n",
    "\n",
    "        competitors[winner].play_game(competitors[loser], rank_diff)"
   ]
  },
  {
   "cell_type": "code",
   "execution_count": 7,
   "metadata": {},
   "outputs": [],
   "source": [
    "df[f\"elo_rank\"] = df.groupby(\n",
    "    [\"organization\", \"contest_date\", \"contest_name\", \"division\", \"class\"]\n",
    ")[f\"elo_rating\"].rank(ascending=False, method=\"first\")\n",
    "# df.loc[df[\"elo_rank\"] > 16, \"elo_rank\"] = 16"
   ]
  },
  {
   "cell_type": "code",
   "execution_count": 8,
   "metadata": {},
   "outputs": [
    {
     "data": {
      "text/plain": [
       "<matplotlib.collections.PathCollection at 0x28cc817b0>"
      ]
     },
     "execution_count": 8,
     "metadata": {},
     "output_type": "execute_result"
    },
    {
     "data": {
      "image/png": "[encoded data removed]",
      "text/plain": [
       "<Figure size 640x480 with 1 Axes>"
      ]
     },
     "metadata": {},
     "output_type": "display_data"
    }
   ],
   "source": [
    "plt.scatter(df[df['competitor_name'] == 'ashley kaltwasser']['contest_date'],\n",
    "            df[df['competitor_name'] == 'ashley kaltwasser'][f'elo_rating'])"
   ]
  },
  {
   "cell_type": "code",
   "execution_count": 9,
   "metadata": {},
   "outputs": [
    {
     "data": {
      "text/html": [
       "<div>\n",
       "<style scoped>\n",
       "    .dataframe tbody tr th:only-of-type {\n",
       "        vertical-align: middle;\n",
       "    }\n",
       "\n",
       "    .dataframe tbody tr th {\n",
       "        vertical-align: top;\n",
       "    }\n",
       "\n",
       "    .dataframe thead th {\n",
       "        text-align: right;\n",
       "    }\n",
       "</style>\n",
       "<table border=\"1\" class=\"dataframe\">\n",
       "  <thead>\n",
       "    <tr style=\"text-align: right;\">\n",
       "      <th></th>\n",
       "      <th>organization</th>\n",
       "      <th>contest_name</th>\n",
       "      <th>contest_date</th>\n",
       "      <th>division</th>\n",
       "      <th>class</th>\n",
       "      <th>competitor_name</th>\n",
       "      <th>placing</th>\n",
       "      <th>elo_rating</th>\n",
       "      <th>elo_rank</th>\n",
       "    </tr>\n",
       "  </thead>\n",
       "  <tbody>\n",
       "    <tr>\n",
       "      <th>17038</th>\n",
       "      <td>ifbb</td>\n",
       "      <td>ifbb flex pro</td>\n",
       "      <td>2012-02-18</td>\n",
       "      <td>fitness</td>\n",
       "      <td>open</td>\n",
       "      <td>adela garcia</td>\n",
       "      <td>1.0</td>\n",
       "      <td>1516.0</td>\n",
       "      <td>1.0</td>\n",
       "    </tr>\n",
       "    <tr>\n",
       "      <th>17030</th>\n",
       "      <td>ifbb</td>\n",
       "      <td>ifbb flex pro</td>\n",
       "      <td>2012-02-18</td>\n",
       "      <td>fitness</td>\n",
       "      <td>open</td>\n",
       "      <td>allison ethier</td>\n",
       "      <td>9.0</td>\n",
       "      <td>1516.0</td>\n",
       "      <td>2.0</td>\n",
       "    </tr>\n",
       "    <tr>\n",
       "      <th>17034</th>\n",
       "      <td>ifbb</td>\n",
       "      <td>ifbb flex pro</td>\n",
       "      <td>2012-02-18</td>\n",
       "      <td>fitness</td>\n",
       "      <td>open</td>\n",
       "      <td>bethany wagner</td>\n",
       "      <td>5.0</td>\n",
       "      <td>1516.0</td>\n",
       "      <td>3.0</td>\n",
       "    </tr>\n",
       "    <tr>\n",
       "      <th>17031</th>\n",
       "      <td>ifbb</td>\n",
       "      <td>ifbb flex pro</td>\n",
       "      <td>2012-02-18</td>\n",
       "      <td>fitness</td>\n",
       "      <td>open</td>\n",
       "      <td>camala rodriguez</td>\n",
       "      <td>8.0</td>\n",
       "      <td>1516.0</td>\n",
       "      <td>4.0</td>\n",
       "    </tr>\n",
       "    <tr>\n",
       "      <th>17033</th>\n",
       "      <td>ifbb</td>\n",
       "      <td>ifbb flex pro</td>\n",
       "      <td>2012-02-18</td>\n",
       "      <td>fitness</td>\n",
       "      <td>open</td>\n",
       "      <td>jodi boam</td>\n",
       "      <td>6.0</td>\n",
       "      <td>1516.0</td>\n",
       "      <td>5.0</td>\n",
       "    </tr>\n",
       "  </tbody>\n",
       "</table>\n",
       "</div>"
      ],
      "text/plain": [
       "      organization   contest_name contest_date division class  \\\n",
       "17038         ifbb  ifbb flex pro   2012-02-18  fitness  open   \n",
       "17030         ifbb  ifbb flex pro   2012-02-18  fitness  open   \n",
       "17034         ifbb  ifbb flex pro   2012-02-18  fitness  open   \n",
       "17031         ifbb  ifbb flex pro   2012-02-18  fitness  open   \n",
       "17033         ifbb  ifbb flex pro   2012-02-18  fitness  open   \n",
       "\n",
       "        competitor_name  placing  elo_rating  elo_rank  \n",
       "17038      adela garcia      1.0      1516.0       1.0  \n",
       "17030    allison ethier      9.0      1516.0       2.0  \n",
       "17034    bethany wagner      5.0      1516.0       3.0  \n",
       "17031  camala rodriguez      8.0      1516.0       4.0  \n",
       "17033         jodi boam      6.0      1516.0       5.0  "
      ]
     },
     "execution_count": 9,
     "metadata": {},
     "output_type": "execute_result"
    }
   ],
   "source": [
    "df.head()"
   ]
  },
  {
   "cell_type": "code",
   "execution_count": 10,
   "metadata": {},
   "outputs": [],
   "source": [
    "df.to_csv('contest_results_elo_adjusted.csv')"
   ]
  },
  {
   "cell_type": "code",
   "execution_count": 11,
   "metadata": {},
   "outputs": [
    {
     "data": {
      "text/plain": [
       "1516.0716628713642"
      ]
     },
     "execution_count": 11,
     "metadata": {},
     "output_type": "execute_result"
    }
   ],
   "source": [
    "max_date = df['contest_date'].max()\n",
    "\n",
    "df[df['contest_date'] == max_date]['elo_rating'].mean()"
   ]
  },
  {
   "cell_type": "code",
   "execution_count": 12,
   "metadata": {},
   "outputs": [],
   "source": [
    "olympia_date = df[df['contest_name'].str.contains('mr olympia')][\"contest_date\"].max()"
   ]
  },
  {
   "cell_type": "code",
   "execution_count": 13,
   "metadata": {},
   "outputs": [
    {
     "data": {
      "text/plain": [
       "Timestamp('2023-11-03 00:00:00')"
      ]
     },
     "execution_count": 13,
     "metadata": {},
     "output_type": "execute_result"
    }
   ],
   "source": [
    "olympia_date"
   ]
  },
  {
   "cell_type": "code",
   "execution_count": 14,
   "metadata": {},
   "outputs": [
    {
     "name": "stderr",
     "output_type": "stream",
     "text": [
      "/var/folders/0s/9k5wnkxx22l_g6lmt5xw673m0000gq/T/ipykernel_25931/305452494.py:1: UserWarning: Boolean Series key will be reindexed to match DataFrame index.\n",
      "  top_10_elo = df.sort_values(\"elo_rating\", ascending=False)[df[\"contest_date\"] == olympia_date].groupby(\"division\").head(10)\n"
     ]
    }
   ],
   "source": [
    "top_10_elo = df.sort_values(\"elo_rating\", ascending=False)[df[\"contest_date\"] == olympia_date].groupby(\"division\").head(10)"
   ]
  },
  {
   "cell_type": "code",
   "execution_count": 15,
   "metadata": {},
   "outputs": [
    {
     "name": "stderr",
     "output_type": "stream",
     "text": [
      "/var/folders/0s/9k5wnkxx22l_g6lmt5xw673m0000gq/T/ipykernel_25931/397030513.py:1: UserWarning: Boolean Series key will be reindexed to match DataFrame index.\n",
      "  top_10 = df.sort_values(\"placing\", ascending=True)[df[\"contest_date\"] == olympia_date].groupby(\"division\").head(10)\n"
     ]
    }
   ],
   "source": [
    "top_10 = df.sort_values(\"placing\", ascending=True)[df[\"contest_date\"] == olympia_date].groupby(\"division\").head(10)"
   ]
  },
  {
   "cell_type": "code",
   "execution_count": 16,
   "metadata": {},
   "outputs": [
    {
     "data": {
      "text/html": [
       "<div>\n",
       "<style scoped>\n",
       "    .dataframe tbody tr th:only-of-type {\n",
       "        vertical-align: middle;\n",
       "    }\n",
       "\n",
       "    .dataframe tbody tr th {\n",
       "        vertical-align: top;\n",
       "    }\n",
       "\n",
       "    .dataframe thead th {\n",
       "        text-align: right;\n",
       "    }\n",
       "</style>\n",
       "<table border=\"1\" class=\"dataframe\">\n",
       "  <thead>\n",
       "    <tr style=\"text-align: right;\">\n",
       "      <th></th>\n",
       "      <th>organization</th>\n",
       "      <th>contest_name</th>\n",
       "      <th>contest_date</th>\n",
       "      <th>division</th>\n",
       "      <th>class</th>\n",
       "      <th>competitor_name</th>\n",
       "      <th>placing</th>\n",
       "      <th>elo_rating</th>\n",
       "      <th>elo_rank</th>\n",
       "    </tr>\n",
       "  </thead>\n",
       "  <tbody>\n",
       "    <tr>\n",
       "      <th>73527</th>\n",
       "      <td>ifbb</td>\n",
       "      <td>ifbb mr olympia</td>\n",
       "      <td>2023-11-03</td>\n",
       "      <td>bikini</td>\n",
       "      <td>open</td>\n",
       "      <td>jennifer dorie</td>\n",
       "      <td>1.0</td>\n",
       "      <td>2732.674575</td>\n",
       "      <td>1.0</td>\n",
       "    </tr>\n",
       "    <tr>\n",
       "      <th>73526</th>\n",
       "      <td>ifbb</td>\n",
       "      <td>ifbb mr olympia</td>\n",
       "      <td>2023-11-03</td>\n",
       "      <td>bikini</td>\n",
       "      <td>open</td>\n",
       "      <td>maureen blanquisco</td>\n",
       "      <td>2.0</td>\n",
       "      <td>2639.491939</td>\n",
       "      <td>4.0</td>\n",
       "    </tr>\n",
       "    <tr>\n",
       "      <th>73525</th>\n",
       "      <td>ifbb</td>\n",
       "      <td>ifbb mr olympia</td>\n",
       "      <td>2023-11-03</td>\n",
       "      <td>bikini</td>\n",
       "      <td>open</td>\n",
       "      <td>ashley kaltwasser</td>\n",
       "      <td>3.0</td>\n",
       "      <td>2707.602024</td>\n",
       "      <td>3.0</td>\n",
       "    </tr>\n",
       "    <tr>\n",
       "      <th>73524</th>\n",
       "      <td>ifbb</td>\n",
       "      <td>ifbb mr olympia</td>\n",
       "      <td>2023-11-03</td>\n",
       "      <td>bikini</td>\n",
       "      <td>open</td>\n",
       "      <td>lauralie chapados</td>\n",
       "      <td>4.0</td>\n",
       "      <td>2707.872765</td>\n",
       "      <td>2.0</td>\n",
       "    </tr>\n",
       "    <tr>\n",
       "      <th>73523</th>\n",
       "      <td>ifbb</td>\n",
       "      <td>ifbb mr olympia</td>\n",
       "      <td>2023-11-03</td>\n",
       "      <td>bikini</td>\n",
       "      <td>open</td>\n",
       "      <td>elisa pecini</td>\n",
       "      <td>5.0</td>\n",
       "      <td>2615.212892</td>\n",
       "      <td>5.0</td>\n",
       "    </tr>\n",
       "    <tr>\n",
       "      <th>73522</th>\n",
       "      <td>ifbb</td>\n",
       "      <td>ifbb mr olympia</td>\n",
       "      <td>2023-11-03</td>\n",
       "      <td>bikini</td>\n",
       "      <td>open</td>\n",
       "      <td>aimee leann delgado</td>\n",
       "      <td>6.0</td>\n",
       "      <td>2491.275470</td>\n",
       "      <td>7.0</td>\n",
       "    </tr>\n",
       "    <tr>\n",
       "      <th>73521</th>\n",
       "      <td>ifbb</td>\n",
       "      <td>ifbb mr olympia</td>\n",
       "      <td>2023-11-03</td>\n",
       "      <td>bikini</td>\n",
       "      <td>open</td>\n",
       "      <td>ariana brothers</td>\n",
       "      <td>7.0</td>\n",
       "      <td>2133.321158</td>\n",
       "      <td>25.0</td>\n",
       "    </tr>\n",
       "    <tr>\n",
       "      <th>73520</th>\n",
       "      <td>ifbb</td>\n",
       "      <td>ifbb mr olympia</td>\n",
       "      <td>2023-11-03</td>\n",
       "      <td>bikini</td>\n",
       "      <td>open</td>\n",
       "      <td>ashlyn little</td>\n",
       "      <td>8.0</td>\n",
       "      <td>2322.838936</td>\n",
       "      <td>12.0</td>\n",
       "    </tr>\n",
       "    <tr>\n",
       "      <th>73519</th>\n",
       "      <td>ifbb</td>\n",
       "      <td>ifbb mr olympia</td>\n",
       "      <td>2023-11-03</td>\n",
       "      <td>bikini</td>\n",
       "      <td>open</td>\n",
       "      <td>daraja hill</td>\n",
       "      <td>9.0</td>\n",
       "      <td>2541.926683</td>\n",
       "      <td>6.0</td>\n",
       "    </tr>\n",
       "    <tr>\n",
       "      <th>73518</th>\n",
       "      <td>ifbb</td>\n",
       "      <td>ifbb mr olympia</td>\n",
       "      <td>2023-11-03</td>\n",
       "      <td>bikini</td>\n",
       "      <td>open</td>\n",
       "      <td>jourdanne lee</td>\n",
       "      <td>10.0</td>\n",
       "      <td>2408.333596</td>\n",
       "      <td>9.0</td>\n",
       "    </tr>\n",
       "  </tbody>\n",
       "</table>\n",
       "</div>"
      ],
      "text/plain": [
       "      organization     contest_name contest_date division class  \\\n",
       "73527         ifbb  ifbb mr olympia   2023-11-03   bikini  open   \n",
       "73526         ifbb  ifbb mr olympia   2023-11-03   bikini  open   \n",
       "73525         ifbb  ifbb mr olympia   2023-11-03   bikini  open   \n",
       "73524         ifbb  ifbb mr olympia   2023-11-03   bikini  open   \n",
       "73523         ifbb  ifbb mr olympia   2023-11-03   bikini  open   \n",
       "73522         ifbb  ifbb mr olympia   2023-11-03   bikini  open   \n",
       "73521         ifbb  ifbb mr olympia   2023-11-03   bikini  open   \n",
       "73520         ifbb  ifbb mr olympia   2023-11-03   bikini  open   \n",
       "73519         ifbb  ifbb mr olympia   2023-11-03   bikini  open   \n",
       "73518         ifbb  ifbb mr olympia   2023-11-03   bikini  open   \n",
       "\n",
       "           competitor_name  placing   elo_rating  elo_rank  \n",
       "73527       jennifer dorie      1.0  2732.674575       1.0  \n",
       "73526   maureen blanquisco      2.0  2639.491939       4.0  \n",
       "73525    ashley kaltwasser      3.0  2707.602024       3.0  \n",
       "73524    lauralie chapados      4.0  2707.872765       2.0  \n",
       "73523         elisa pecini      5.0  2615.212892       5.0  \n",
       "73522  aimee leann delgado      6.0  2491.275470       7.0  \n",
       "73521      ariana brothers      7.0  2133.321158      25.0  \n",
       "73520        ashlyn little      8.0  2322.838936      12.0  \n",
       "73519          daraja hill      9.0  2541.926683       6.0  \n",
       "73518        jourdanne lee     10.0  2408.333596       9.0  "
      ]
     },
     "execution_count": 16,
     "metadata": {},
     "output_type": "execute_result"
    }
   ],
   "source": [
    "top_10[top_10[\"division\"] == \"bikini\"]"
   ]
  },
  {
   "cell_type": "code",
   "execution_count": null,
   "metadata": {},
   "outputs": [],
   "source": []
  }
 ],
 "metadata": {
  "kernelspec": {
   "display_name": ".venv",
   "language": "python",
   "name": "python3"
  },
  "language_info": {
   "codemirror_mode": {
    "name": "ipython",
    "version": 3
   },
   "file_extension": ".py",
   "mimetype": "text/x-python",
   "name": "python",
   "nbconvert_exporter": "python",
   "pygments_lexer": "ipython3",
   "version": "3.10.12"
  }
 },
 "nbformat": 4,
 "nbformat_minor": 2
}
