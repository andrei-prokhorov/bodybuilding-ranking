{
 "cells": [
  {
   "cell_type": "code",
   "execution_count": 5,
   "metadata": {},
   "outputs": [
    {
     "name": "stdout",
     "output_type": "stream",
     "text": [
      "Collecting git+https://github.com/djcunningham0/multielo.git\n",
      "  Cloning https://github.com/djcunningham0/multielo.git to /private/var/folders/0s/9k5wnkxx22l_g6lmt5xw673m0000gq/T/pip-req-build-7amrxfdp\n",
      "  Running command git clone --filter=blob:none --quiet https://github.com/djcunningham0/multielo.git /private/var/folders/0s/9k5wnkxx22l_g6lmt5xw673m0000gq/T/pip-req-build-7amrxfdp\n",
      "  Resolved https://github.com/djcunningham0/multielo.git to commit 440f7922b90ff87009f8283d6491eb0f704e6624\n",
      "  Preparing metadata (setup.py) ... \u001b[?25ldone\n",
      "\u001b[?25hRequirement already satisfied: numpy in /Users/jessicadesilva/Documents/GitHub/bodybuilding-ranking/.venv/lib/python3.10/site-packages (from multielo==0.4.1) (1.26.4)\n",
      "Requirement already satisfied: pandas in /Users/jessicadesilva/Documents/GitHub/bodybuilding-ranking/.venv/lib/python3.10/site-packages (from multielo==0.4.1) (2.2.1)\n",
      "Requirement already satisfied: python-dateutil>=2.8.2 in /Users/jessicadesilva/Documents/GitHub/bodybuilding-ranking/.venv/lib/python3.10/site-packages (from pandas->multielo==0.4.1) (2.9.0.post0)\n",
      "Requirement already satisfied: tzdata>=2022.7 in /Users/jessicadesilva/Documents/GitHub/bodybuilding-ranking/.venv/lib/python3.10/site-packages (from pandas->multielo==0.4.1) (2024.1)\n",
      "Requirement already satisfied: pytz>=2020.1 in /Users/jessicadesilva/Documents/GitHub/bodybuilding-ranking/.venv/lib/python3.10/site-packages (from pandas->multielo==0.4.1) (2024.1)\n",
      "Requirement already satisfied: six>=1.5 in /Users/jessicadesilva/Documents/GitHub/bodybuilding-ranking/.venv/lib/python3.10/site-packages (from python-dateutil>=2.8.2->pandas->multielo==0.4.1) (1.16.0)\n",
      "Installing collected packages: multielo\n",
      "\u001b[33m  DEPRECATION: multielo is being installed using the legacy 'setup.py install' method, because it does not have a 'pyproject.toml' and the 'wheel' package is not installed. pip 23.1 will enforce this behaviour change. A possible replacement is to enable the '--use-pep517' option. Discussion can be found at https://github.com/pypa/pip/issues/8559\u001b[0m\u001b[33m\n",
      "\u001b[0m  Running setup.py install for multielo ... \u001b[?25ldone\n",
      "\u001b[?25hSuccessfully installed multielo-0.4.1\n",
      "\n",
      "\u001b[1m[\u001b[0m\u001b[34;49mnotice\u001b[0m\u001b[1;39;49m]\u001b[0m\u001b[39;49m A new release of pip is available: \u001b[0m\u001b[31;49m23.0.1\u001b[0m\u001b[39;49m -> \u001b[0m\u001b[32;49m24.0\u001b[0m\n",
      "\u001b[1m[\u001b[0m\u001b[34;49mnotice\u001b[0m\u001b[1;39;49m]\u001b[0m\u001b[39;49m To update, run: \u001b[0m\u001b[32;49mpip install --upgrade pip\u001b[0m\n"
     ]
    }
   ],
   "source": [
    "!python -m pip install git+https://github.com/djcunningham0/multielo.git"
   ]
  },
  {
   "cell_type": "code",
   "execution_count": 1,
   "metadata": {},
   "outputs": [],
   "source": [
    "import pandas as pd\n",
    "import matplotlib.pyplot as plt\n",
    "from multielo import MultiElo"
   ]
  },
  {
   "cell_type": "code",
   "execution_count": 2,
   "metadata": {},
   "outputs": [],
   "source": [
    "elo = MultiElo()"
   ]
  },
  {
   "cell_type": "code",
   "execution_count": 3,
   "metadata": {},
   "outputs": [],
   "source": [
    "df = pd.read_csv(\"../data/contest_results.csv\", parse_dates=[\"contest_date\"])\n",
    "df = df[\n",
    "    [\n",
    "        \"organization\",\n",
    "        \"contest_name\",\n",
    "        \"contest_date\",\n",
    "        \"division\",\n",
    "        \"class\",\n",
    "        \"competitor_name\",\n",
    "        \"placing\",\n",
    "    ]\n",
    "]\n",
    "df.loc[df[\"division\"] == \"women's wellness\", \"division\"] = \"wellness\"\n",
    "df = df.dropna()"
   ]
  },
  {
   "cell_type": "code",
   "execution_count": 17,
   "metadata": {},
   "outputs": [],
   "source": [
    "df[\"multielo_rating\"] = 1500"
   ]
  },
  {
   "cell_type": "code",
   "execution_count": 18,
   "metadata": {},
   "outputs": [],
   "source": [
    "df = df.sort_values(\n",
    "    by=[\"contest_date\", \"organization\", \"contest_name\", \"division\", \"class\", \"placing\"],\n",
    "    ascending=True,\n",
    ")"
   ]
  },
  {
   "cell_type": "code",
   "execution_count": 19,
   "metadata": {},
   "outputs": [
    {
     "data": {
      "text/html": [
       "<div>\n",
       "<style scoped>\n",
       "    .dataframe tbody tr th:only-of-type {\n",
       "        vertical-align: middle;\n",
       "    }\n",
       "\n",
       "    .dataframe tbody tr th {\n",
       "        vertical-align: top;\n",
       "    }\n",
       "\n",
       "    .dataframe thead th {\n",
       "        text-align: right;\n",
       "    }\n",
       "</style>\n",
       "<table border=\"1\" class=\"dataframe\">\n",
       "  <thead>\n",
       "    <tr style=\"text-align: right;\">\n",
       "      <th></th>\n",
       "      <th>organization</th>\n",
       "      <th>contest_name</th>\n",
       "      <th>contest_date</th>\n",
       "      <th>division</th>\n",
       "      <th>class</th>\n",
       "      <th>competitor_name</th>\n",
       "      <th>placing</th>\n",
       "      <th>multielo_rating</th>\n",
       "    </tr>\n",
       "  </thead>\n",
       "  <tbody>\n",
       "    <tr>\n",
       "      <th>17038</th>\n",
       "      <td>ifbb</td>\n",
       "      <td>ifbb flex pro</td>\n",
       "      <td>2012-02-18</td>\n",
       "      <td>fitness</td>\n",
       "      <td>open</td>\n",
       "      <td>adela garcia</td>\n",
       "      <td>1.0</td>\n",
       "      <td>1500</td>\n",
       "    </tr>\n",
       "    <tr>\n",
       "      <th>17037</th>\n",
       "      <td>ifbb</td>\n",
       "      <td>ifbb flex pro</td>\n",
       "      <td>2012-02-18</td>\n",
       "      <td>fitness</td>\n",
       "      <td>open</td>\n",
       "      <td>oksana grishina</td>\n",
       "      <td>2.0</td>\n",
       "      <td>1500</td>\n",
       "    </tr>\n",
       "    <tr>\n",
       "      <th>17036</th>\n",
       "      <td>ifbb</td>\n",
       "      <td>ifbb flex pro</td>\n",
       "      <td>2012-02-18</td>\n",
       "      <td>fitness</td>\n",
       "      <td>open</td>\n",
       "      <td>myriam capes</td>\n",
       "      <td>3.0</td>\n",
       "      <td>1500</td>\n",
       "    </tr>\n",
       "    <tr>\n",
       "      <th>17035</th>\n",
       "      <td>ifbb</td>\n",
       "      <td>ifbb flex pro</td>\n",
       "      <td>2012-02-18</td>\n",
       "      <td>fitness</td>\n",
       "      <td>open</td>\n",
       "      <td>tanji johnson</td>\n",
       "      <td>4.0</td>\n",
       "      <td>1500</td>\n",
       "    </tr>\n",
       "    <tr>\n",
       "      <th>17034</th>\n",
       "      <td>ifbb</td>\n",
       "      <td>ifbb flex pro</td>\n",
       "      <td>2012-02-18</td>\n",
       "      <td>fitness</td>\n",
       "      <td>open</td>\n",
       "      <td>bethany wagner</td>\n",
       "      <td>5.0</td>\n",
       "      <td>1500</td>\n",
       "    </tr>\n",
       "  </tbody>\n",
       "</table>\n",
       "</div>"
      ],
      "text/plain": [
       "      organization   contest_name contest_date division class  \\\n",
       "17038         ifbb  ifbb flex pro   2012-02-18  fitness  open   \n",
       "17037         ifbb  ifbb flex pro   2012-02-18  fitness  open   \n",
       "17036         ifbb  ifbb flex pro   2012-02-18  fitness  open   \n",
       "17035         ifbb  ifbb flex pro   2012-02-18  fitness  open   \n",
       "17034         ifbb  ifbb flex pro   2012-02-18  fitness  open   \n",
       "\n",
       "       competitor_name  placing  multielo_rating  \n",
       "17038     adela garcia      1.0             1500  \n",
       "17037  oksana grishina      2.0             1500  \n",
       "17036     myriam capes      3.0             1500  \n",
       "17035    tanji johnson      4.0             1500  \n",
       "17034   bethany wagner      5.0             1500  "
      ]
     },
     "execution_count": 19,
     "metadata": {},
     "output_type": "execute_result"
    }
   ],
   "source": [
    "df.head()"
   ]
  },
  {
   "cell_type": "code",
   "execution_count": 44,
   "metadata": {},
   "outputs": [],
   "source": [
    "competitors = {}\n",
    "starting_elo = {\n",
    "    \"bikini\": 1700,\n",
    "    \"figure\": 1650,\n",
    "    \"fitness\": 1525,\n",
    "    \"men's bodybuilding\": 1650,\n",
    "    \"men's classic physique\": 1625,\n",
    "    \"men's physique\": 1650,\n",
    "    \"wellness\": 1575,\n",
    "    \"women's bodybuilding\": 1625,\n",
    "    \"women's physique\": 1550,\n",
    "    \"212\": 1650,\n",
    "}\n",
    "df[\"professional_only\"] = (\n",
    "    df.groupby(\"competitor_name\")[\"organization\"].transform(\"nunique\") == 1\n",
    ") & (df[\"organization\"] == \"ifbb\")\n",
    "\n",
    "for index, row in df.iterrows():\n",
    "    if row[\"professional_only\"]:\n",
    "        competitors[row[\"competitor_name\"]] = starting_elo[row[\"division\"]]\n",
    "    else:\n",
    "        competitors[row[\"competitor_name\"]] = 1500"
   ]
  },
  {
   "cell_type": "code",
   "execution_count": 45,
   "metadata": {},
   "outputs": [],
   "source": [
    "df[\"placing\"] = df[\"placing\"].astype(int)"
   ]
  },
  {
   "cell_type": "code",
   "execution_count": 46,
   "metadata": {},
   "outputs": [],
   "source": [
    "df_groupby = df.groupby(by=[\"contest_date\", \"organization\", \"division\", \"class\"])"
   ]
  },
  {
   "cell_type": "code",
   "execution_count": 47,
   "metadata": {},
   "outputs": [],
   "source": [
    "for name, df_temp in df_groupby:\n",
    "    if len(df_temp) < 2:\n",
    "        continue\n",
    "    for index, row in df_temp.iterrows():\n",
    "        name = row[\"competitor_name\"]\n",
    "        df_temp.loc[index, \"multielo_rating\"] = competitors[name]\n",
    "    df_temp[\"multielo_rating\"] = elo.get_new_ratings(\n",
    "        df_temp[\"multielo_rating\"].values,\n",
    "        result_order=list(df_temp[\"placing\"].values),\n",
    "    )\n",
    "    for index, row in df_temp.iterrows():\n",
    "        name = row[\"competitor_name\"]\n",
    "        competitors[name] = row[\"multielo_rating\"]\n",
    "        df.loc[index, \"multielo_rating\"] = df_temp.loc[\n",
    "            index, \"multielo_rating\"\n",
    "        ]"
   ]
  },
  {
   "cell_type": "code",
   "execution_count": 48,
   "metadata": {},
   "outputs": [],
   "source": [
    "df[\"multielo_rank\"] = df.groupby(\n",
    "    [\"organization\", \"contest_date\", \"contest_name\", \"division\", \"class\"]\n",
    ")[\"multielo_rating\"].rank(ascending=False, method=\"first\")"
   ]
  },
  {
   "cell_type": "code",
   "execution_count": 49,
   "metadata": {},
   "outputs": [
    {
     "data": {
      "text/plain": [
       "<matplotlib.collections.PathCollection at 0x2956baf20>"
      ]
     },
     "execution_count": 49,
     "metadata": {},
     "output_type": "execute_result"
    },
    {
     "data": {
      "image/png": "[encoded data removed]",
      "text/plain": [
       "<Figure size 640x480 with 1 Axes>"
      ]
     },
     "metadata": {},
     "output_type": "display_data"
    }
   ],
   "source": [
    "plt.scatter(\n",
    "    df[df[\"competitor_name\"] == \"ashley kaltwasser\"][\"contest_date\"],\n",
    "    df[df[\"competitor_name\"] == \"ashley kaltwasser\"][\"multielo_rating\"],\n",
    ")"
   ]
  },
  {
   "cell_type": "code",
   "execution_count": 50,
   "metadata": {},
   "outputs": [
    {
     "data": {
      "text/html": [
       "<div>\n",
       "<style scoped>\n",
       "    .dataframe tbody tr th:only-of-type {\n",
       "        vertical-align: middle;\n",
       "    }\n",
       "\n",
       "    .dataframe tbody tr th {\n",
       "        vertical-align: top;\n",
       "    }\n",
       "\n",
       "    .dataframe thead th {\n",
       "        text-align: right;\n",
       "    }\n",
       "</style>\n",
       "<table border=\"1\" class=\"dataframe\">\n",
       "  <thead>\n",
       "    <tr style=\"text-align: right;\">\n",
       "      <th></th>\n",
       "      <th>organization</th>\n",
       "      <th>contest_name</th>\n",
       "      <th>contest_date</th>\n",
       "      <th>division</th>\n",
       "      <th>class</th>\n",
       "      <th>competitor_name</th>\n",
       "      <th>placing</th>\n",
       "      <th>multielo_rating</th>\n",
       "      <th>professional_only</th>\n",
       "      <th>multielo_rank</th>\n",
       "    </tr>\n",
       "  </thead>\n",
       "  <tbody>\n",
       "    <tr>\n",
       "      <th>17038</th>\n",
       "      <td>ifbb</td>\n",
       "      <td>ifbb flex pro</td>\n",
       "      <td>2012-02-18</td>\n",
       "      <td>fitness</td>\n",
       "      <td>open</td>\n",
       "      <td>adela garcia</td>\n",
       "      <td>1</td>\n",
       "      <td>1555.253385</td>\n",
       "      <td>True</td>\n",
       "      <td>2.0</td>\n",
       "    </tr>\n",
       "    <tr>\n",
       "      <th>17037</th>\n",
       "      <td>ifbb</td>\n",
       "      <td>ifbb flex pro</td>\n",
       "      <td>2012-02-18</td>\n",
       "      <td>fitness</td>\n",
       "      <td>open</td>\n",
       "      <td>oksana grishina</td>\n",
       "      <td>2</td>\n",
       "      <td>1549.920051</td>\n",
       "      <td>True</td>\n",
       "      <td>3.0</td>\n",
       "    </tr>\n",
       "    <tr>\n",
       "      <th>17036</th>\n",
       "      <td>ifbb</td>\n",
       "      <td>ifbb flex pro</td>\n",
       "      <td>2012-02-18</td>\n",
       "      <td>fitness</td>\n",
       "      <td>open</td>\n",
       "      <td>myriam capes</td>\n",
       "      <td>3</td>\n",
       "      <td>1521.856488</td>\n",
       "      <td>False</td>\n",
       "      <td>8.0</td>\n",
       "    </tr>\n",
       "    <tr>\n",
       "      <th>17035</th>\n",
       "      <td>ifbb</td>\n",
       "      <td>ifbb flex pro</td>\n",
       "      <td>2012-02-18</td>\n",
       "      <td>fitness</td>\n",
       "      <td>open</td>\n",
       "      <td>tanji johnson</td>\n",
       "      <td>4</td>\n",
       "      <td>1539.253385</td>\n",
       "      <td>True</td>\n",
       "      <td>4.0</td>\n",
       "    </tr>\n",
       "    <tr>\n",
       "      <th>17034</th>\n",
       "      <td>ifbb</td>\n",
       "      <td>ifbb flex pro</td>\n",
       "      <td>2012-02-18</td>\n",
       "      <td>fitness</td>\n",
       "      <td>open</td>\n",
       "      <td>bethany wagner</td>\n",
       "      <td>5</td>\n",
       "      <td>1533.920051</td>\n",
       "      <td>True</td>\n",
       "      <td>5.0</td>\n",
       "    </tr>\n",
       "  </tbody>\n",
       "</table>\n",
       "</div>"
      ],
      "text/plain": [
       "      organization   contest_name contest_date division class  \\\n",
       "17038         ifbb  ifbb flex pro   2012-02-18  fitness  open   \n",
       "17037         ifbb  ifbb flex pro   2012-02-18  fitness  open   \n",
       "17036         ifbb  ifbb flex pro   2012-02-18  fitness  open   \n",
       "17035         ifbb  ifbb flex pro   2012-02-18  fitness  open   \n",
       "17034         ifbb  ifbb flex pro   2012-02-18  fitness  open   \n",
       "\n",
       "       competitor_name  placing  multielo_rating  professional_only  \\\n",
       "17038     adela garcia        1      1555.253385               True   \n",
       "17037  oksana grishina        2      1549.920051               True   \n",
       "17036     myriam capes        3      1521.856488              False   \n",
       "17035    tanji johnson        4      1539.253385               True   \n",
       "17034   bethany wagner        5      1533.920051               True   \n",
       "\n",
       "       multielo_rank  \n",
       "17038            2.0  \n",
       "17037            3.0  \n",
       "17036            8.0  \n",
       "17035            4.0  \n",
       "17034            5.0  "
      ]
     },
     "execution_count": 50,
     "metadata": {},
     "output_type": "execute_result"
    }
   ],
   "source": [
    "df.head()"
   ]
  },
  {
   "cell_type": "code",
   "execution_count": 51,
   "metadata": {},
   "outputs": [],
   "source": [
    "df.to_csv(\"../data/contest_results_multi_elo.csv\")"
   ]
  }
 ],
 "metadata": {
  "kernelspec": {
   "display_name": ".venv",
   "language": "python",
   "name": "python3"
  },
  "language_info": {
   "codemirror_mode": {
    "name": "ipython",
    "version": 3
   },
   "file_extension": ".py",
   "mimetype": "text/x-python",
   "name": "python",
   "nbconvert_exporter": "python",
   "pygments_lexer": "ipython3",
   "version": "3.10.12"
  }
 },
 "nbformat": 4,
 "nbformat_minor": 2
}
