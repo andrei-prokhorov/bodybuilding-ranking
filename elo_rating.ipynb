{
 "cells": [
  {
   "cell_type": "code",
   "execution_count": 79,
   "metadata": {},
   "outputs": [],
   "source": [
    "import pandas as pd\n",
    "import zipfile\n",
    "import elopy\n",
    "import heapq"
   ]
  },
  {
   "cell_type": "code",
   "execution_count": 26,
   "metadata": {},
   "outputs": [
    {
     "name": "stderr",
     "output_type": "stream",
     "text": [
      "/var/folders/0s/9k5wnkxx22l_g6lmt5xw673m0000gq/T/ipykernel_87261/1544680467.py:3: FutureWarning: The argument 'date_parser' is deprecated and will be removed in a future version. Please use 'date_format' instead, or read your data in as 'object' dtype and then call 'to_datetime'.\n",
      "  df = pd.read_csv('./extracted_files/contest_results.csv', date_parser='contest_date')\n"
     ]
    }
   ],
   "source": [
    "with zipfile.ZipFile('data/contest_results.csv.zip', 'r') as zip_ref:\n",
    "    zip_ref.extractall('extracted_files')\n",
    "df = pd.read_csv('./extracted_files/contest_results.csv', date_parser='contest_date')"
   ]
  },
  {
   "cell_type": "code",
   "execution_count": 27,
   "metadata": {},
   "outputs": [
    {
     "data": {
      "text/plain": [
       "organization\n",
       "npc     616391\n",
       "npcw     92896\n",
       "ifbb     57393\n",
       "cpa      17027\n",
       "Name: count, dtype: int64"
      ]
     },
     "execution_count": 27,
     "metadata": {},
     "output_type": "execute_result"
    }
   ],
   "source": [
    "df['organization'].value_counts()"
   ]
  },
  {
   "cell_type": "code",
   "execution_count": 28,
   "metadata": {},
   "outputs": [],
   "source": [
    "df_pro = df[df['organization'] == 'ifbb']\n",
    "df_pro_open = df_pro[df_pro['class'] == 'open']"
   ]
  },
  {
   "cell_type": "code",
   "execution_count": 29,
   "metadata": {},
   "outputs": [],
   "source": [
    "df_pro = df_pro[['competitor_name', 'contest_name', 'contest_date', 'division', 'placing']]"
   ]
  },
  {
   "cell_type": "code",
   "execution_count": 67,
   "metadata": {},
   "outputs": [],
   "source": [
    "df_merge = pd.merge(df_pro,\n",
    "                    df_pro,\n",
    "                    on=['contest_name', 'contest_date', 'division'],\n",
    "                    how='inner',\n",
    "                    suffixes=('_winner', '_loser'))"
   ]
  },
  {
   "cell_type": "code",
   "execution_count": 68,
   "metadata": {},
   "outputs": [],
   "source": [
    "df_merge = df_merge[df_merge['placing_winner'] < df_merge['placing_loser']]"
   ]
  },
  {
   "cell_type": "code",
   "execution_count": 69,
   "metadata": {},
   "outputs": [],
   "source": [
    "df_merge = df_merge[['competitor_name_winner', 'placing_winner', 'competitor_name_loser', 'placing_loser', 'contest_date', 'contest_name', 'division']]"
   ]
  },
  {
   "cell_type": "code",
   "execution_count": 70,
   "metadata": {},
   "outputs": [
    {
     "data": {
      "text/html": [
       "<div>\n",
       "<style scoped>\n",
       "    .dataframe tbody tr th:only-of-type {\n",
       "        vertical-align: middle;\n",
       "    }\n",
       "\n",
       "    .dataframe tbody tr th {\n",
       "        vertical-align: top;\n",
       "    }\n",
       "\n",
       "    .dataframe thead th {\n",
       "        text-align: right;\n",
       "    }\n",
       "</style>\n",
       "<table border=\"1\" class=\"dataframe\">\n",
       "  <thead>\n",
       "    <tr style=\"text-align: right;\">\n",
       "      <th></th>\n",
       "      <th>competitor_name_winner</th>\n",
       "      <th>placing_winner</th>\n",
       "      <th>competitor_name_loser</th>\n",
       "      <th>placing_loser</th>\n",
       "      <th>contest_date</th>\n",
       "      <th>contest_name</th>\n",
       "      <th>division</th>\n",
       "    </tr>\n",
       "  </thead>\n",
       "  <tbody>\n",
       "    <tr>\n",
       "      <th>12</th>\n",
       "      <td>michele mayberry</td>\n",
       "      <td>11.0</td>\n",
       "      <td>paula gulman-williams</td>\n",
       "      <td>12.0</td>\n",
       "      <td>2012-02-18</td>\n",
       "      <td>ifbb flex pro</td>\n",
       "      <td>fitness</td>\n",
       "    </tr>\n",
       "    <tr>\n",
       "      <th>24</th>\n",
       "      <td>sheri vucick</td>\n",
       "      <td>10.0</td>\n",
       "      <td>paula gulman-williams</td>\n",
       "      <td>12.0</td>\n",
       "      <td>2012-02-18</td>\n",
       "      <td>ifbb flex pro</td>\n",
       "      <td>fitness</td>\n",
       "    </tr>\n",
       "    <tr>\n",
       "      <th>25</th>\n",
       "      <td>sheri vucick</td>\n",
       "      <td>10.0</td>\n",
       "      <td>michele mayberry</td>\n",
       "      <td>11.0</td>\n",
       "      <td>2012-02-18</td>\n",
       "      <td>ifbb flex pro</td>\n",
       "      <td>fitness</td>\n",
       "    </tr>\n",
       "    <tr>\n",
       "      <th>36</th>\n",
       "      <td>allison ethier</td>\n",
       "      <td>9.0</td>\n",
       "      <td>paula gulman-williams</td>\n",
       "      <td>12.0</td>\n",
       "      <td>2012-02-18</td>\n",
       "      <td>ifbb flex pro</td>\n",
       "      <td>fitness</td>\n",
       "    </tr>\n",
       "    <tr>\n",
       "      <th>37</th>\n",
       "      <td>allison ethier</td>\n",
       "      <td>9.0</td>\n",
       "      <td>michele mayberry</td>\n",
       "      <td>11.0</td>\n",
       "      <td>2012-02-18</td>\n",
       "      <td>ifbb flex pro</td>\n",
       "      <td>fitness</td>\n",
       "    </tr>\n",
       "  </tbody>\n",
       "</table>\n",
       "</div>"
      ],
      "text/plain": [
       "   competitor_name_winner  placing_winner  competitor_name_loser  \\\n",
       "12       michele mayberry            11.0  paula gulman-williams   \n",
       "24           sheri vucick            10.0  paula gulman-williams   \n",
       "25           sheri vucick            10.0       michele mayberry   \n",
       "36         allison ethier             9.0  paula gulman-williams   \n",
       "37         allison ethier             9.0       michele mayberry   \n",
       "\n",
       "    placing_loser contest_date   contest_name division  \n",
       "12           12.0   2012-02-18  ifbb flex pro  fitness  \n",
       "24           12.0   2012-02-18  ifbb flex pro  fitness  \n",
       "25           11.0   2012-02-18  ifbb flex pro  fitness  \n",
       "36           12.0   2012-02-18  ifbb flex pro  fitness  \n",
       "37           11.0   2012-02-18  ifbb flex pro  fitness  "
      ]
     },
     "execution_count": 70,
     "metadata": {},
     "output_type": "execute_result"
    }
   ],
   "source": [
    "df_merge.head()"
   ]
  },
  {
   "cell_type": "code",
   "execution_count": 71,
   "metadata": {},
   "outputs": [
    {
     "data": {
      "text/plain": [
       "contest_date\n",
       "2014-06-10    5531\n",
       "2022-12-13    4626\n",
       "2014-06-16    2848\n",
       "2023-11-03    2797\n",
       "2016-12-28    2206\n",
       "2021-12-30    2190\n",
       "2018-09-14    2073\n",
       "2020-12-18    1887\n",
       "2015-09-17    1848\n",
       "2017-09-15    1839\n",
       "2019-09-13    1758\n",
       "2014-09-18    1184\n",
       "2012-09-28    1098\n",
       "2013-09-26     988\n",
       "2012-12-02     735\n",
       "2012-12-06     390\n",
       "Name: count, dtype: int64"
      ]
     },
     "execution_count": 71,
     "metadata": {},
     "output_type": "execute_result"
    }
   ],
   "source": [
    "df_merge[df_merge['contest_name'].str.contains('olympia')]['contest_date'].value_counts()"
   ]
  },
  {
   "cell_type": "code",
   "execution_count": 72,
   "metadata": {},
   "outputs": [],
   "source": [
    "olympia_2022 = '2022-12-13'\n",
    "olympia_2023 = '2023-11-03'"
   ]
  },
  {
   "cell_type": "code",
   "execution_count": 73,
   "metadata": {},
   "outputs": [],
   "source": [
    "df_2023 = df_merge[df_merge['contest_date'] < olympia_2023]\n",
    "df_2023 = df_2023.sort_values(by='contest_date', ascending=True)"
   ]
  },
  {
   "cell_type": "code",
   "execution_count": 74,
   "metadata": {},
   "outputs": [],
   "source": [
    "from elopy.elo import Elo\n",
    "\n",
    "competitors = {}"
   ]
  },
  {
   "cell_type": "code",
   "execution_count": 75,
   "metadata": {},
   "outputs": [],
   "source": [
    "for index, row in df_2023.iterrows():\n",
    "    winner = row['competitor_name_winner']\n",
    "    loser = row['competitor_name_loser']\n",
    "    rank_diff = row['placing_loser'] - row['placing_winner']\n",
    "    if winner not in competitors:\n",
    "        competitors[winner] = Elo()\n",
    "    if loser not in competitors:\n",
    "        competitors[loser] = Elo()\n",
    "    competitors[winner].play_game(competitors[loser], rank_diff)"
   ]
  },
  {
   "cell_type": "code",
   "execution_count": 81,
   "metadata": {},
   "outputs": [],
   "source": [
    "bikini_olympia = df_pro[(df_pro['contest_date'] == olympia_2023)\n",
    "       & (df_pro['division'] == 'bikini')]['competitor_name'].unique()\n",
    "\n",
    "bikini_olympia = [name for name in bikini_olympia if name in competitors]"
   ]
  },
  {
   "cell_type": "code",
   "execution_count": 87,
   "metadata": {},
   "outputs": [
    {
     "name": "stdout",
     "output_type": "stream",
     "text": [
      "(-2292.7335793102006, 'ashley kaltwasser')\n",
      "(-2291.1487025403267, 'jennifer dorie')\n",
      "(-2271.39177987202, 'lauralie chapados')\n",
      "(-2224.7366653044833, 'elisa pecini')\n",
      "(-2193.374561852178, 'maureen blanquisco')\n",
      "(-2097.256944411258, 'daraja hill')\n",
      "(-2080.747656703822, 'aimee leann delgado')\n",
      "(-2055.120608348572, 'jourdanne lee')\n",
      "(-2012.063029042556, 'romina basualdo')\n",
      "(-1983.0619768109746, 'phoebe hagan')\n",
      "(-1982.9256986306534, 'ivanna escandar')\n",
      "(-1962.565067843334, 'ashlyn little')\n",
      "(-1938.3613773760399, 'reijuana harley')\n",
      "(-1933.119829179901, 'eli fernandez')\n",
      "(-1919.929304882525, 'yurika shigemoto')\n"
     ]
    }
   ],
   "source": [
    "top_ten = []\n",
    "name_rating = [(-competitors[name].elo, name) for name in bikini_olympia]\n",
    "heapq.heapify(name_rating)\n",
    "for i in range(15):\n",
    "    print(heapq.heappop(name_rating))"
   ]
  },
  {
   "cell_type": "code",
   "execution_count": 88,
   "metadata": {},
   "outputs": [
    {
     "name": "stdout",
     "output_type": "stream",
     "text": [
      "(-2277.931827359975, 'janet layug')\n",
      "(-2257.886982595582, 'lauralie chapados')\n",
      "(-2256.2749367738516, 'ashley kaltwasser')\n",
      "(-2254.1088813918072, 'elisa pecini')\n",
      "(-2247.0200779276165, 'jennifer dorie')\n"
     ]
    }
   ],
   "source": [
    "df_2022 = df_merge[df_merge['contest_date'] < olympia_2022]\n",
    "df_2022 = df_2022.sort_values(by='contest_date', ascending=True)\n",
    "\n",
    "competitors = {}\n",
    "\n",
    "for index, row in df_2022.iterrows():\n",
    "    winner = row['competitor_name_winner']\n",
    "    loser = row['competitor_name_loser']\n",
    "    rank_diff = row['placing_loser'] - row['placing_winner']\n",
    "    if winner not in competitors:\n",
    "        competitors[winner] = Elo()\n",
    "    if loser not in competitors:\n",
    "        competitors[loser] = Elo()\n",
    "    competitors[winner].play_game(competitors[loser], rank_diff)\n",
    "\n",
    "bikini_olympia = df_pro[(df_pro['contest_date'] == olympia_2022)\n",
    "       & (df_pro['division'] == 'bikini')]['competitor_name'].unique()\n",
    "\n",
    "bikini_olympia = [name for name in bikini_olympia if name in competitors]"
   ]
  },
  {
   "cell_type": "code",
   "execution_count": 89,
   "metadata": {},
   "outputs": [
    {
     "name": "stdout",
     "output_type": "stream",
     "text": [
      "(-2277.931827359975, 'janet layug')\n",
      "(-2257.886982595582, 'lauralie chapados')\n",
      "(-2256.2749367738516, 'ashley kaltwasser')\n",
      "(-2254.1088813918072, 'elisa pecini')\n",
      "(-2247.0200779276165, 'jennifer dorie')\n",
      "(-2088.727205079298, 'india paulino')\n",
      "(-2086.3532917075217, 'maureen blanquisco')\n",
      "(-2023.592664741882, 'jourdanne lee')\n",
      "(-2006.6100386349601, 'ashlyn little')\n",
      "(-1978.522322412744, 'romina basualdo')\n"
     ]
    }
   ],
   "source": [
    "top_ten = []\n",
    "name_rating = [(-competitors[name].elo, name) for name in bikini_olympia]\n",
    "heapq.heapify(name_rating)\n",
    "for i in range(10):\n",
    "    print(heapq.heappop(name_rating))"
   ]
  },
  {
   "cell_type": "code",
   "execution_count": 91,
   "metadata": {},
   "outputs": [
    {
     "data": {
      "text/plain": [
       "0.6522448806741087"
      ]
     },
     "execution_count": 91,
     "metadata": {},
     "output_type": "execute_result"
    }
   ],
   "source": [
    "competitors['ashley kaltwasser'].win_probs(competitors['jennifer dorie'])"
   ]
  },
  {
   "cell_type": "code",
   "execution_count": null,
   "metadata": {},
   "outputs": [],
   "source": []
  }
 ],
 "metadata": {
  "kernelspec": {
   "display_name": ".venv",
   "language": "python",
   "name": "python3"
  },
  "language_info": {
   "codemirror_mode": {
    "name": "ipython",
    "version": 3
   },
   "file_extension": ".py",
   "mimetype": "text/x-python",
   "name": "python",
   "nbconvert_exporter": "python",
   "pygments_lexer": "ipython3",
   "version": "3.10.12"
  }
 },
 "nbformat": 4,
 "nbformat_minor": 2
}
