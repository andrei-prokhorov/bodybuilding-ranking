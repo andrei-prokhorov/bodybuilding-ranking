{
 "cells": [
  {
   "cell_type": "code",
   "execution_count": 308,
   "metadata": {},
   "outputs": [],
   "source": [
    "import pandas as pd\n",
    "import zipfile\n",
    "from elopy.elo import Elo\n",
    "import heapq\n",
    "import numpy as np\n",
    "import matplotlib.pyplot as plt\n",
    "import seaborn as sns\n",
    "from datetime import datetime"
   ]
  },
  {
   "cell_type": "code",
   "execution_count": 126,
   "metadata": {},
   "outputs": [],
   "source": [
    "with zipfile.ZipFile('data/contest_results.csv.zip', 'r') as zip_ref:\n",
    "    zip_ref.extractall('extracted_files')"
   ]
  },
  {
   "cell_type": "code",
   "execution_count": 349,
   "metadata": {},
   "outputs": [],
   "source": [
    "df = pd.read_csv('./extracted_files/contest_results.csv', parse_dates=['contest_date'])\n",
    "df.loc[df['placing'] > 16, 'placing'] = 16"
   ]
  },
  {
   "cell_type": "code",
   "execution_count": 351,
   "metadata": {},
   "outputs": [],
   "source": [
    "df_pro = df[df['organization'] == 'ifbb']\n",
    "df_pro_open = df_pro[df_pro['class'] == 'open']"
   ]
  },
  {
   "cell_type": "code",
   "execution_count": 352,
   "metadata": {},
   "outputs": [
    {
     "data": {
      "text/html": [
       "<div>\n",
       "<style scoped>\n",
       "    .dataframe tbody tr th:only-of-type {\n",
       "        vertical-align: middle;\n",
       "    }\n",
       "\n",
       "    .dataframe tbody tr th {\n",
       "        vertical-align: top;\n",
       "    }\n",
       "\n",
       "    .dataframe thead th {\n",
       "        text-align: right;\n",
       "    }\n",
       "</style>\n",
       "<table border=\"1\" class=\"dataframe\">\n",
       "  <thead>\n",
       "    <tr style=\"text-align: right;\">\n",
       "      <th></th>\n",
       "      <th>contest_url</th>\n",
       "      <th>competitor_name</th>\n",
       "      <th>competitor_url</th>\n",
       "      <th>organization</th>\n",
       "      <th>contest_name</th>\n",
       "      <th>contest_date</th>\n",
       "      <th>division</th>\n",
       "      <th>class</th>\n",
       "      <th>placing</th>\n",
       "      <th>scraped_timestamp</th>\n",
       "      <th>is_loaded</th>\n",
       "    </tr>\n",
       "  </thead>\n",
       "  <tbody>\n",
       "    <tr>\n",
       "      <th>17027</th>\n",
       "      <td>https://contests.npcnewsonline.com/contests/20...</td>\n",
       "      <td>paula gulman-williams</td>\n",
       "      <td>https://contests.npcnewsonline.com/contests/20...</td>\n",
       "      <td>ifbb</td>\n",
       "      <td>ifbb flex pro</td>\n",
       "      <td>2012-02-18</td>\n",
       "      <td>fitness</td>\n",
       "      <td>open</td>\n",
       "      <td>12.0</td>\n",
       "      <td>2023-11-07 03:09:15.053933 UTC</td>\n",
       "      <td>False</td>\n",
       "    </tr>\n",
       "    <tr>\n",
       "      <th>17028</th>\n",
       "      <td>https://contests.npcnewsonline.com/contests/20...</td>\n",
       "      <td>michele mayberry</td>\n",
       "      <td>https://contests.npcnewsonline.com/contests/20...</td>\n",
       "      <td>ifbb</td>\n",
       "      <td>ifbb flex pro</td>\n",
       "      <td>2012-02-18</td>\n",
       "      <td>fitness</td>\n",
       "      <td>open</td>\n",
       "      <td>11.0</td>\n",
       "      <td>2023-11-07 03:09:15.053471 UTC</td>\n",
       "      <td>False</td>\n",
       "    </tr>\n",
       "    <tr>\n",
       "      <th>17029</th>\n",
       "      <td>https://contests.npcnewsonline.com/contests/20...</td>\n",
       "      <td>sheri vucick</td>\n",
       "      <td>https://contests.npcnewsonline.com/contests/20...</td>\n",
       "      <td>ifbb</td>\n",
       "      <td>ifbb flex pro</td>\n",
       "      <td>2012-02-18</td>\n",
       "      <td>fitness</td>\n",
       "      <td>open</td>\n",
       "      <td>10.0</td>\n",
       "      <td>2023-11-07 03:09:15.05299 UTC</td>\n",
       "      <td>False</td>\n",
       "    </tr>\n",
       "    <tr>\n",
       "      <th>17030</th>\n",
       "      <td>https://contests.npcnewsonline.com/contests/20...</td>\n",
       "      <td>allison ethier</td>\n",
       "      <td>https://contests.npcnewsonline.com/contests/20...</td>\n",
       "      <td>ifbb</td>\n",
       "      <td>ifbb flex pro</td>\n",
       "      <td>2012-02-18</td>\n",
       "      <td>fitness</td>\n",
       "      <td>open</td>\n",
       "      <td>9.0</td>\n",
       "      <td>2023-11-07 03:09:15.05247 UTC</td>\n",
       "      <td>False</td>\n",
       "    </tr>\n",
       "    <tr>\n",
       "      <th>17031</th>\n",
       "      <td>https://contests.npcnewsonline.com/contests/20...</td>\n",
       "      <td>camala rodriguez</td>\n",
       "      <td>https://contests.npcnewsonline.com/contests/20...</td>\n",
       "      <td>ifbb</td>\n",
       "      <td>ifbb flex pro</td>\n",
       "      <td>2012-02-18</td>\n",
       "      <td>fitness</td>\n",
       "      <td>open</td>\n",
       "      <td>8.0</td>\n",
       "      <td>2023-11-07 03:09:15.052009 UTC</td>\n",
       "      <td>False</td>\n",
       "    </tr>\n",
       "  </tbody>\n",
       "</table>\n",
       "</div>"
      ],
      "text/plain": [
       "                                             contest_url  \\\n",
       "17027  https://contests.npcnewsonline.com/contests/20...   \n",
       "17028  https://contests.npcnewsonline.com/contests/20...   \n",
       "17029  https://contests.npcnewsonline.com/contests/20...   \n",
       "17030  https://contests.npcnewsonline.com/contests/20...   \n",
       "17031  https://contests.npcnewsonline.com/contests/20...   \n",
       "\n",
       "             competitor_name  \\\n",
       "17027  paula gulman-williams   \n",
       "17028       michele mayberry   \n",
       "17029           sheri vucick   \n",
       "17030         allison ethier   \n",
       "17031       camala rodriguez   \n",
       "\n",
       "                                          competitor_url organization  \\\n",
       "17027  https://contests.npcnewsonline.com/contests/20...         ifbb   \n",
       "17028  https://contests.npcnewsonline.com/contests/20...         ifbb   \n",
       "17029  https://contests.npcnewsonline.com/contests/20...         ifbb   \n",
       "17030  https://contests.npcnewsonline.com/contests/20...         ifbb   \n",
       "17031  https://contests.npcnewsonline.com/contests/20...         ifbb   \n",
       "\n",
       "        contest_name contest_date division class  placing  \\\n",
       "17027  ifbb flex pro   2012-02-18  fitness  open     12.0   \n",
       "17028  ifbb flex pro   2012-02-18  fitness  open     11.0   \n",
       "17029  ifbb flex pro   2012-02-18  fitness  open     10.0   \n",
       "17030  ifbb flex pro   2012-02-18  fitness  open      9.0   \n",
       "17031  ifbb flex pro   2012-02-18  fitness  open      8.0   \n",
       "\n",
       "                    scraped_timestamp  is_loaded  \n",
       "17027  2023-11-07 03:09:15.053933 UTC      False  \n",
       "17028  2023-11-07 03:09:15.053471 UTC      False  \n",
       "17029   2023-11-07 03:09:15.05299 UTC      False  \n",
       "17030   2023-11-07 03:09:15.05247 UTC      False  \n",
       "17031  2023-11-07 03:09:15.052009 UTC      False  "
      ]
     },
     "execution_count": 352,
     "metadata": {},
     "output_type": "execute_result"
    }
   ],
   "source": [
    "df_pro_open.head()"
   ]
  },
  {
   "cell_type": "code",
   "execution_count": 353,
   "metadata": {},
   "outputs": [],
   "source": [
    "df_pro = df_pro[['competitor_name', 'placing', 'contest_name', 'contest_date', 'division', 'class']]\n",
    "df_pro_open = df_pro_open[['competitor_name', 'placing', 'contest_name', 'contest_date', 'division']]"
   ]
  },
  {
   "cell_type": "code",
   "execution_count": 354,
   "metadata": {},
   "outputs": [],
   "source": [
    "# every pair of competitors from the same show & division get a row\n",
    "# think of this as a \"match\" in chess\n",
    "df_merge = pd.merge(df_pro,\n",
    "                    df_pro,\n",
    "                    on=['contest_name', 'contest_date', 'division', 'class'],\n",
    "                    how='inner',\n",
    "                    suffixes=('_winner', '_loser'))\n",
    "\n",
    "df_merge_open = pd.merge(df_pro_open,\n",
    "                    df_pro_open,\n",
    "                    on=['contest_name', 'contest_date', 'division'],\n",
    "                    how='inner',\n",
    "                    suffixes=('_winner', '_loser'))"
   ]
  },
  {
   "cell_type": "code",
   "execution_count": 355,
   "metadata": {},
   "outputs": [
    {
     "data": {
      "text/html": [
       "<div>\n",
       "<style scoped>\n",
       "    .dataframe tbody tr th:only-of-type {\n",
       "        vertical-align: middle;\n",
       "    }\n",
       "\n",
       "    .dataframe tbody tr th {\n",
       "        vertical-align: top;\n",
       "    }\n",
       "\n",
       "    .dataframe thead th {\n",
       "        text-align: right;\n",
       "    }\n",
       "</style>\n",
       "<table border=\"1\" class=\"dataframe\">\n",
       "  <thead>\n",
       "    <tr style=\"text-align: right;\">\n",
       "      <th></th>\n",
       "      <th>competitor_name_winner</th>\n",
       "      <th>placing_winner</th>\n",
       "      <th>contest_name</th>\n",
       "      <th>contest_date</th>\n",
       "      <th>division</th>\n",
       "      <th>class</th>\n",
       "      <th>competitor_name_loser</th>\n",
       "      <th>placing_loser</th>\n",
       "    </tr>\n",
       "  </thead>\n",
       "  <tbody>\n",
       "    <tr>\n",
       "      <th>0</th>\n",
       "      <td>paula gulman-williams</td>\n",
       "      <td>12.0</td>\n",
       "      <td>ifbb flex pro</td>\n",
       "      <td>2012-02-18</td>\n",
       "      <td>fitness</td>\n",
       "      <td>open</td>\n",
       "      <td>paula gulman-williams</td>\n",
       "      <td>12.0</td>\n",
       "    </tr>\n",
       "    <tr>\n",
       "      <th>1</th>\n",
       "      <td>paula gulman-williams</td>\n",
       "      <td>12.0</td>\n",
       "      <td>ifbb flex pro</td>\n",
       "      <td>2012-02-18</td>\n",
       "      <td>fitness</td>\n",
       "      <td>open</td>\n",
       "      <td>michele mayberry</td>\n",
       "      <td>11.0</td>\n",
       "    </tr>\n",
       "    <tr>\n",
       "      <th>2</th>\n",
       "      <td>paula gulman-williams</td>\n",
       "      <td>12.0</td>\n",
       "      <td>ifbb flex pro</td>\n",
       "      <td>2012-02-18</td>\n",
       "      <td>fitness</td>\n",
       "      <td>open</td>\n",
       "      <td>sheri vucick</td>\n",
       "      <td>10.0</td>\n",
       "    </tr>\n",
       "    <tr>\n",
       "      <th>3</th>\n",
       "      <td>paula gulman-williams</td>\n",
       "      <td>12.0</td>\n",
       "      <td>ifbb flex pro</td>\n",
       "      <td>2012-02-18</td>\n",
       "      <td>fitness</td>\n",
       "      <td>open</td>\n",
       "      <td>allison ethier</td>\n",
       "      <td>9.0</td>\n",
       "    </tr>\n",
       "    <tr>\n",
       "      <th>4</th>\n",
       "      <td>paula gulman-williams</td>\n",
       "      <td>12.0</td>\n",
       "      <td>ifbb flex pro</td>\n",
       "      <td>2012-02-18</td>\n",
       "      <td>fitness</td>\n",
       "      <td>open</td>\n",
       "      <td>camala rodriguez</td>\n",
       "      <td>8.0</td>\n",
       "    </tr>\n",
       "  </tbody>\n",
       "</table>\n",
       "</div>"
      ],
      "text/plain": [
       "  competitor_name_winner  placing_winner   contest_name contest_date division  \\\n",
       "0  paula gulman-williams            12.0  ifbb flex pro   2012-02-18  fitness   \n",
       "1  paula gulman-williams            12.0  ifbb flex pro   2012-02-18  fitness   \n",
       "2  paula gulman-williams            12.0  ifbb flex pro   2012-02-18  fitness   \n",
       "3  paula gulman-williams            12.0  ifbb flex pro   2012-02-18  fitness   \n",
       "4  paula gulman-williams            12.0  ifbb flex pro   2012-02-18  fitness   \n",
       "\n",
       "  class  competitor_name_loser  placing_loser  \n",
       "0  open  paula gulman-williams           12.0  \n",
       "1  open       michele mayberry           11.0  \n",
       "2  open           sheri vucick           10.0  \n",
       "3  open         allison ethier            9.0  \n",
       "4  open       camala rodriguez            8.0  "
      ]
     },
     "execution_count": 355,
     "metadata": {},
     "output_type": "execute_result"
    }
   ],
   "source": [
    "df_merge.head()"
   ]
  },
  {
   "cell_type": "code",
   "execution_count": 356,
   "metadata": {},
   "outputs": [],
   "source": [
    "df_merge = df_merge[df_merge['placing_winner'] < df_merge['placing_loser']]\n",
    "df_merge_open = df_merge_open[df_merge_open['placing_winner'] < df_merge_open['placing_loser']]"
   ]
  },
  {
   "cell_type": "code",
   "execution_count": 357,
   "metadata": {},
   "outputs": [],
   "source": [
    "df_merge = df_merge[['competitor_name_winner', 'placing_winner', 'competitor_name_loser', 'placing_loser', 'contest_date', 'contest_name', 'division', 'class']]\n",
    "df_merge_open = df_merge_open[['competitor_name_winner', 'placing_winner', 'competitor_name_loser', 'placing_loser', 'contest_date', 'contest_name', 'division']]"
   ]
  },
  {
   "cell_type": "code",
   "execution_count": 358,
   "metadata": {},
   "outputs": [
    {
     "data": {
      "text/html": [
       "<div>\n",
       "<style scoped>\n",
       "    .dataframe tbody tr th:only-of-type {\n",
       "        vertical-align: middle;\n",
       "    }\n",
       "\n",
       "    .dataframe tbody tr th {\n",
       "        vertical-align: top;\n",
       "    }\n",
       "\n",
       "    .dataframe thead th {\n",
       "        text-align: right;\n",
       "    }\n",
       "</style>\n",
       "<table border=\"1\" class=\"dataframe\">\n",
       "  <thead>\n",
       "    <tr style=\"text-align: right;\">\n",
       "      <th></th>\n",
       "      <th>competitor_name_winner</th>\n",
       "      <th>placing_winner</th>\n",
       "      <th>competitor_name_loser</th>\n",
       "      <th>placing_loser</th>\n",
       "      <th>contest_date</th>\n",
       "      <th>contest_name</th>\n",
       "      <th>division</th>\n",
       "      <th>class</th>\n",
       "    </tr>\n",
       "  </thead>\n",
       "  <tbody>\n",
       "    <tr>\n",
       "      <th>12</th>\n",
       "      <td>michele mayberry</td>\n",
       "      <td>11.0</td>\n",
       "      <td>paula gulman-williams</td>\n",
       "      <td>12.0</td>\n",
       "      <td>2012-02-18</td>\n",
       "      <td>ifbb flex pro</td>\n",
       "      <td>fitness</td>\n",
       "      <td>open</td>\n",
       "    </tr>\n",
       "    <tr>\n",
       "      <th>24</th>\n",
       "      <td>sheri vucick</td>\n",
       "      <td>10.0</td>\n",
       "      <td>paula gulman-williams</td>\n",
       "      <td>12.0</td>\n",
       "      <td>2012-02-18</td>\n",
       "      <td>ifbb flex pro</td>\n",
       "      <td>fitness</td>\n",
       "      <td>open</td>\n",
       "    </tr>\n",
       "    <tr>\n",
       "      <th>25</th>\n",
       "      <td>sheri vucick</td>\n",
       "      <td>10.0</td>\n",
       "      <td>michele mayberry</td>\n",
       "      <td>11.0</td>\n",
       "      <td>2012-02-18</td>\n",
       "      <td>ifbb flex pro</td>\n",
       "      <td>fitness</td>\n",
       "      <td>open</td>\n",
       "    </tr>\n",
       "    <tr>\n",
       "      <th>36</th>\n",
       "      <td>allison ethier</td>\n",
       "      <td>9.0</td>\n",
       "      <td>paula gulman-williams</td>\n",
       "      <td>12.0</td>\n",
       "      <td>2012-02-18</td>\n",
       "      <td>ifbb flex pro</td>\n",
       "      <td>fitness</td>\n",
       "      <td>open</td>\n",
       "    </tr>\n",
       "    <tr>\n",
       "      <th>37</th>\n",
       "      <td>allison ethier</td>\n",
       "      <td>9.0</td>\n",
       "      <td>michele mayberry</td>\n",
       "      <td>11.0</td>\n",
       "      <td>2012-02-18</td>\n",
       "      <td>ifbb flex pro</td>\n",
       "      <td>fitness</td>\n",
       "      <td>open</td>\n",
       "    </tr>\n",
       "  </tbody>\n",
       "</table>\n",
       "</div>"
      ],
      "text/plain": [
       "   competitor_name_winner  placing_winner  competitor_name_loser  \\\n",
       "12       michele mayberry            11.0  paula gulman-williams   \n",
       "24           sheri vucick            10.0  paula gulman-williams   \n",
       "25           sheri vucick            10.0       michele mayberry   \n",
       "36         allison ethier             9.0  paula gulman-williams   \n",
       "37         allison ethier             9.0       michele mayberry   \n",
       "\n",
       "    placing_loser contest_date   contest_name division class  \n",
       "12           12.0   2012-02-18  ifbb flex pro  fitness  open  \n",
       "24           12.0   2012-02-18  ifbb flex pro  fitness  open  \n",
       "25           11.0   2012-02-18  ifbb flex pro  fitness  open  \n",
       "36           12.0   2012-02-18  ifbb flex pro  fitness  open  \n",
       "37           11.0   2012-02-18  ifbb flex pro  fitness  open  "
      ]
     },
     "execution_count": 358,
     "metadata": {},
     "output_type": "execute_result"
    }
   ],
   "source": [
    "df_merge.head()"
   ]
  },
  {
   "cell_type": "code",
   "execution_count": 296,
   "metadata": {},
   "outputs": [
    {
     "data": {
      "text/plain": [
       "contest_date\n",
       "2022-12-13    4302\n",
       "2023-11-03    2617\n",
       "2016-12-28    2206\n",
       "2021-12-30    2070\n",
       "2014-06-10    1973\n",
       "2018-09-14    1911\n",
       "2015-09-17    1848\n",
       "2017-09-15    1839\n",
       "2020-12-18    1782\n",
       "2019-09-13    1668\n",
       "2014-09-18    1184\n",
       "2012-09-28    1098\n",
       "2013-09-26     988\n",
       "2014-06-16     803\n",
       "2012-12-06     390\n",
       "2012-12-02     105\n",
       "Name: count, dtype: int64"
      ]
     },
     "execution_count": 296,
     "metadata": {},
     "output_type": "execute_result"
    }
   ],
   "source": [
    "df_merge[df_merge['contest_name'].str.contains('olympia')]['contest_date'].value_counts()"
   ]
  },
  {
   "cell_type": "code",
   "execution_count": 72,
   "metadata": {},
   "outputs": [],
   "source": [
    "olympia_2022 = '2022-12-13'\n",
    "olympia_2023 = '2023-11-03'"
   ]
  },
  {
   "cell_type": "code",
   "execution_count": 73,
   "metadata": {},
   "outputs": [],
   "source": [
    "df_2023 = df_merge[df_merge['contest_date'] < olympia_2023]\n",
    "df_2023 = df_2023.sort_values(by='contest_date', ascending=True)"
   ]
  },
  {
   "cell_type": "code",
   "execution_count": 114,
   "metadata": {},
   "outputs": [],
   "source": [
    "# dictionary maps competitor name to their Elo rating class\n",
    "competitors = {}"
   ]
  },
  {
   "cell_type": "code",
   "execution_count": 115,
   "metadata": {},
   "outputs": [],
   "source": [
    "for index, row in df_2023.iterrows():\n",
    "    winner = row['competitor_name_winner']\n",
    "    loser = row['competitor_name_loser']\n",
    "    rank_diff = row['placing_loser'] - row['placing_winner']\n",
    "    if winner not in competitors:\n",
    "        competitors[winner] = Elo()\n",
    "    if loser not in competitors:\n",
    "        competitors[loser] = Elo()\n",
    "        \n",
    "    competitors[winner].play_game(competitors[loser], rank_diff)"
   ]
  },
  {
   "cell_type": "code",
   "execution_count": 116,
   "metadata": {},
   "outputs": [],
   "source": [
    "bikini_olympia = df_pro[(df_pro['contest_date'] == olympia_2023)\n",
    "       & (df_pro['division'] == 'bikini')]['competitor_name'].unique()\n",
    "\n",
    "bikini_olympia = [name for name in bikini_olympia if name in competitors]"
   ]
  },
  {
   "cell_type": "code",
   "execution_count": 117,
   "metadata": {},
   "outputs": [
    {
     "name": "stdout",
     "output_type": "stream",
     "text": [
      "(-2292.7335793102006, 'ashley kaltwasser')\n",
      "(-2291.1487025403267, 'jennifer dorie')\n",
      "(-2271.39177987202, 'lauralie chapados')\n",
      "(-2224.7366653044833, 'elisa pecini')\n",
      "(-2193.374561852178, 'maureen blanquisco')\n",
      "(-2097.256944411258, 'daraja hill')\n",
      "(-2080.747656703822, 'aimee leann delgado')\n",
      "(-2055.120608348572, 'jourdanne lee')\n",
      "(-2012.063029042556, 'romina basualdo')\n",
      "(-1983.0619768109746, 'phoebe hagan')\n"
     ]
    }
   ],
   "source": [
    "top_ten = []\n",
    "name_rating = [(-competitors[name].elo, name) for name in bikini_olympia]\n",
    "heapq.heapify(name_rating)\n",
    "for i in range(10):\n",
    "    print(heapq.heappop(name_rating))"
   ]
  },
  {
   "cell_type": "code",
   "execution_count": 118,
   "metadata": {},
   "outputs": [
    {
     "data": {
      "text/plain": [
       "0.8747313835059086"
      ]
     },
     "execution_count": 118,
     "metadata": {},
     "output_type": "execute_result"
    }
   ],
   "source": [
    "competitors['ashley kaltwasser'].win_probs(competitors['jourdanne lee'])\n"
   ]
  },
  {
   "cell_type": "code",
   "execution_count": 297,
   "metadata": {},
   "outputs": [],
   "source": [
    "df_2022 = df_merge[df_merge['contest_date'] < olympia_2022]\n",
    "df_2022 = df_2022.sort_values(by='contest_date', ascending=True)\n",
    "\n",
    "competitors = {}\n",
    "\n",
    "for index, row in df_2022.iterrows():\n",
    "    winner = row['competitor_name_winner']\n",
    "    loser = row['competitor_name_loser']\n",
    "    rank_diff = row['placing_loser'] - row['placing_winner']\n",
    "    if winner not in competitors:\n",
    "        competitors[winner] = Elo()\n",
    "    if loser not in competitors:\n",
    "        competitors[loser] = Elo()\n",
    "    competitors[winner].play_game(competitors[loser], rank_diff)\n",
    "\n",
    "bikini_olympia = df_pro[(df_pro['contest_date'] == olympia_2022)\n",
    "       & (df_pro['division'] == 'bikini')]['competitor_name'].unique()\n",
    "\n",
    "bikini_olympia = [name for name in bikini_olympia if name in competitors]"
   ]
  },
  {
   "cell_type": "code",
   "execution_count": 89,
   "metadata": {},
   "outputs": [
    {
     "name": "stdout",
     "output_type": "stream",
     "text": [
      "(-2277.931827359975, 'janet layug')\n",
      "(-2257.886982595582, 'lauralie chapados')\n",
      "(-2256.2749367738516, 'ashley kaltwasser')\n",
      "(-2254.1088813918072, 'elisa pecini')\n",
      "(-2247.0200779276165, 'jennifer dorie')\n",
      "(-2088.727205079298, 'india paulino')\n",
      "(-2086.3532917075217, 'maureen blanquisco')\n",
      "(-2023.592664741882, 'jourdanne lee')\n",
      "(-2006.6100386349601, 'ashlyn little')\n",
      "(-1978.522322412744, 'romina basualdo')\n"
     ]
    }
   ],
   "source": [
    "top_ten = []\n",
    "name_rating = [(-competitors[name].elo, name) for name in bikini_olympia]\n",
    "heapq.heapify(name_rating)\n",
    "for i in range(10):\n",
    "    print(heapq.heappop(name_rating))"
   ]
  },
  {
   "cell_type": "code",
   "execution_count": 91,
   "metadata": {},
   "outputs": [
    {
     "data": {
      "text/plain": [
       "0.6522448806741087"
      ]
     },
     "execution_count": 91,
     "metadata": {},
     "output_type": "execute_result"
    }
   ],
   "source": [
    "competitors['ashley kaltwasser'].win_probs(competitors['jennifer dorie'])"
   ]
  },
  {
   "cell_type": "markdown",
   "metadata": {},
   "source": [
    "# Elo Rating Column\n",
    "Here we will create a column in df_pro which includes the competitor's Elo rating leading up to that competition."
   ]
  },
  {
   "cell_type": "code",
   "execution_count": 359,
   "metadata": {},
   "outputs": [],
   "source": [
    "df_pro_open = df_pro_open.sort_values(by='contest_date', ascending=True)"
   ]
  },
  {
   "cell_type": "code",
   "execution_count": 360,
   "metadata": {},
   "outputs": [],
   "source": [
    "competitors_open = {}\n",
    "\n",
    "for contest_date in df_pro_open['contest_date'].unique():\n",
    "    for index, row in df_pro_open[df_pro_open['contest_date'] == contest_date].iterrows():\n",
    "\n",
    "        if row['competitor_name'] not in competitors_open:\n",
    "            competitors_open[row['competitor_name']] = Elo()\n",
    "\n",
    "        df_pro_open.loc[index, 'elo_rating'] = competitors_open[row['competitor_name']].elo\n",
    "\n",
    "    for index, row in df_merge_open[df_merge_open['contest_date'] == contest_date].iterrows():\n",
    "        winner = row['competitor_name_winner']\n",
    "        loser = row['competitor_name_loser']\n",
    "        rank_diff = row['placing_loser'] - row['placing_winner']\n",
    "            \n",
    "        competitors_open[winner].play_game(competitors_open[loser], rank_diff)\n",
    "\n",
    "df_pro_open['elo_percentile'] = df_pro_open.groupby(['contest_date', 'contest_name', 'division']).elo_rating.rank(pct=True)"
   ]
  },
  {
   "cell_type": "code",
   "execution_count": 361,
   "metadata": {},
   "outputs": [
    {
     "data": {
      "text/html": [
       "<div>\n",
       "<style scoped>\n",
       "    .dataframe tbody tr th:only-of-type {\n",
       "        vertical-align: middle;\n",
       "    }\n",
       "\n",
       "    .dataframe tbody tr th {\n",
       "        vertical-align: top;\n",
       "    }\n",
       "\n",
       "    .dataframe thead th {\n",
       "        text-align: right;\n",
       "    }\n",
       "</style>\n",
       "<table border=\"1\" class=\"dataframe\">\n",
       "  <thead>\n",
       "    <tr style=\"text-align: right;\">\n",
       "      <th></th>\n",
       "      <th>competitor_name</th>\n",
       "      <th>placing</th>\n",
       "      <th>contest_name</th>\n",
       "      <th>contest_date</th>\n",
       "      <th>division</th>\n",
       "      <th>elo_rating</th>\n",
       "      <th>elo_percentile</th>\n",
       "    </tr>\n",
       "  </thead>\n",
       "  <tbody>\n",
       "    <tr>\n",
       "      <th>74414</th>\n",
       "      <td>ren yi xie</td>\n",
       "      <td>6.0</td>\n",
       "      <td>ifbb professional league china dms pro shanghai</td>\n",
       "      <td>2024-03-01</td>\n",
       "      <td>men's physique</td>\n",
       "      <td>1500.000000</td>\n",
       "      <td>0.5625</td>\n",
       "    </tr>\n",
       "    <tr>\n",
       "      <th>74415</th>\n",
       "      <td>xingwang yang</td>\n",
       "      <td>5.0</td>\n",
       "      <td>ifbb professional league china dms pro shanghai</td>\n",
       "      <td>2024-03-01</td>\n",
       "      <td>men's physique</td>\n",
       "      <td>1500.000000</td>\n",
       "      <td>0.5625</td>\n",
       "    </tr>\n",
       "    <tr>\n",
       "      <th>74416</th>\n",
       "      <td>abdullah al salem</td>\n",
       "      <td>4.0</td>\n",
       "      <td>ifbb professional league china dms pro shanghai</td>\n",
       "      <td>2024-03-01</td>\n",
       "      <td>men's physique</td>\n",
       "      <td>1504.601614</td>\n",
       "      <td>0.7500</td>\n",
       "    </tr>\n",
       "    <tr>\n",
       "      <th>74417</th>\n",
       "      <td>yiming wei</td>\n",
       "      <td>3.0</td>\n",
       "      <td>ifbb professional league china dms pro shanghai</td>\n",
       "      <td>2024-03-01</td>\n",
       "      <td>men's physique</td>\n",
       "      <td>1528.232828</td>\n",
       "      <td>1.0000</td>\n",
       "    </tr>\n",
       "    <tr>\n",
       "      <th>74419</th>\n",
       "      <td>carlos asiedu ocran</td>\n",
       "      <td>1.0</td>\n",
       "      <td>ifbb professional league china dms pro shanghai</td>\n",
       "      <td>2024-03-01</td>\n",
       "      <td>men's physique</td>\n",
       "      <td>1469.484446</td>\n",
       "      <td>0.3750</td>\n",
       "    </tr>\n",
       "  </tbody>\n",
       "</table>\n",
       "</div>"
      ],
      "text/plain": [
       "           competitor_name  placing  \\\n",
       "74414           ren yi xie      6.0   \n",
       "74415        xingwang yang      5.0   \n",
       "74416    abdullah al salem      4.0   \n",
       "74417           yiming wei      3.0   \n",
       "74419  carlos asiedu ocran      1.0   \n",
       "\n",
       "                                          contest_name contest_date  \\\n",
       "74414  ifbb professional league china dms pro shanghai   2024-03-01   \n",
       "74415  ifbb professional league china dms pro shanghai   2024-03-01   \n",
       "74416  ifbb professional league china dms pro shanghai   2024-03-01   \n",
       "74417  ifbb professional league china dms pro shanghai   2024-03-01   \n",
       "74419  ifbb professional league china dms pro shanghai   2024-03-01   \n",
       "\n",
       "             division   elo_rating  elo_percentile  \n",
       "74414  men's physique  1500.000000          0.5625  \n",
       "74415  men's physique  1500.000000          0.5625  \n",
       "74416  men's physique  1504.601614          0.7500  \n",
       "74417  men's physique  1528.232828          1.0000  \n",
       "74419  men's physique  1469.484446          0.3750  "
      ]
     },
     "execution_count": 361,
     "metadata": {},
     "output_type": "execute_result"
    }
   ],
   "source": [
    "df_pro_open.tail()"
   ]
  },
  {
   "cell_type": "code",
   "execution_count": 302,
   "metadata": {},
   "outputs": [],
   "source": [
    "import matplotlib.pyplot as plt"
   ]
  },
  {
   "cell_type": "code",
   "execution_count": 363,
   "metadata": {},
   "outputs": [
    {
     "data": {
      "text/plain": [
       "<matplotlib.collections.PathCollection at 0x3a421c790>"
      ]
     },
     "execution_count": 363,
     "metadata": {},
     "output_type": "execute_result"
    },
    {
     "data": {
      "image/png": "[encoded data removed]",
      "text/plain": [
       "<Figure size 640x480 with 1 Axes>"
      ]
     },
     "metadata": {},
     "output_type": "display_data"
    }
   ],
   "source": [
    "plt.scatter(df_pro_open[df_pro_open['competitor_name'] == 'janet layug']['contest_date'],\n",
    "            df_pro_open[df_pro_open['competitor_name'] == 'janet layug']['elo_rating'])"
   ]
  },
  {
   "cell_type": "code",
   "execution_count": 423,
   "metadata": {},
   "outputs": [
    {
     "name": "stderr",
     "output_type": "stream",
     "text": [
      "/var/folders/0s/9k5wnkxx22l_g6lmt5xw673m0000gq/T/ipykernel_87261/1701806658.py:8: UserWarning: Ignoring `palette` because no `hue` variable has been assigned.\n",
      "  sns.lineplot(x='contest_date',\n",
      "No artists with labels found to put in legend.  Note that artists whose label start with an underscore are ignored when legend() is called with no argument.\n",
      "/var/folders/0s/9k5wnkxx22l_g6lmt5xw673m0000gq/T/ipykernel_87261/1701806658.py:8: UserWarning: Ignoring `palette` because no `hue` variable has been assigned.\n",
      "  sns.lineplot(x='contest_date',\n",
      "No artists with labels found to put in legend.  Note that artists whose label start with an underscore are ignored when legend() is called with no argument.\n"
     ]
    },
    {
     "data": {
      "image/png": "[encoded data removed]",
      "text/plain": [
       "<Figure size 640x480 with 1 Axes>"
      ]
     },
     "metadata": {},
     "output_type": "display_data"
    }
   ],
   "source": [
    "for idx, div in enumerate(['bikini', 'figure']):\n",
    "    df_groupby = (df_pro_open[(df_pro_open['placing'] == 1) & (df_pro_open['division'] == div)]\n",
    "                  .groupby(by = ['division', 'contest_date']))\n",
    "    mean_elo_percentile = df_groupby['elo_percentile'].mean()\n",
    "    mean_elo_percentile = mean_elo_percentile.reset_index()\n",
    "    mean_elo_percentile['30day_rolling_avg'] = mean_elo_percentile['elo_percentile'].rolling(30).median()\n",
    "\n",
    "    sns.lineplot(x='contest_date',\n",
    "                y='30day_rolling_avg',\n",
    "                data=mean_elo_percentile,\n",
    "                palette='deep')\n",
    "    plt.legend()\n",
    "    plt.xticks(rotation=90);\n"
   ]
  },
  {
   "cell_type": "code",
   "execution_count": 424,
   "metadata": {},
   "outputs": [
    {
     "name": "stderr",
     "output_type": "stream",
     "text": [
      "/var/folders/0s/9k5wnkxx22l_g6lmt5xw673m0000gq/T/ipykernel_87261/3991567045.py:8: UserWarning: Ignoring `palette` because no `hue` variable has been assigned.\n",
      "  sns.lineplot(x='contest_date',\n",
      "No artists with labels found to put in legend.  Note that artists whose label start with an underscore are ignored when legend() is called with no argument.\n"
     ]
    },
    {
     "data": {
      "image/png": "[encoded data removed]",
      "text/plain": [
       "<Figure size 640x480 with 1 Axes>"
      ]
     },
     "metadata": {},
     "output_type": "display_data"
    }
   ],
   "source": [
    "for idx, div in enumerate(['men\\'s physique']):\n",
    "    df_groupby = (df_pro_open[(df_pro_open['placing'] == 1) & (df_pro_open['division'] == div)]\n",
    "                  .groupby(by = ['division', 'contest_date']))\n",
    "    mean_elo_percentile = df_groupby['elo_percentile'].mean()\n",
    "    mean_elo_percentile = mean_elo_percentile.reset_index()\n",
    "    mean_elo_percentile['30day_rolling_avg'] = mean_elo_percentile['elo_percentile'].rolling(30).mean()\n",
    "\n",
    "    sns.lineplot(x='contest_date',\n",
    "                y='30day_rolling_avg',\n",
    "                data=mean_elo_percentile,\n",
    "                palette='deep')\n",
    "    plt.legend()\n",
    "    plt.xticks(rotation=90);"
   ]
  },
  {
   "cell_type": "code",
   "execution_count": 420,
   "metadata": {},
   "outputs": [
    {
     "data": {
      "text/plain": [
       "division\n",
       "bikini                    9273\n",
       "men's physique            7864\n",
       "figure                    5465\n",
       "women's physique          3913\n",
       "men's classic physique    3391\n",
       "men's bodybuilding        2779\n",
       "212                       2042\n",
       "fitness                   1337\n",
       "women's bodybuilding      1134\n",
       "wellness                   921\n",
       "women's wellness           188\n",
       "Name: count, dtype: int64"
      ]
     },
     "execution_count": 420,
     "metadata": {},
     "output_type": "execute_result"
    }
   ],
   "source": [
    "df_pro_open['division'].value_counts()"
   ]
  },
  {
   "cell_type": "code",
   "execution_count": 381,
   "metadata": {},
   "outputs": [],
   "source": [
    "df_pro_open['elo_rank'] = df_pro_open.groupby(['contest_date', 'contest_name', 'division']).elo_rating.rank()\n",
    "df_pro_open.loc[df_pro_open['elo_rank'] > 16, 'elo_rank'] = 16"
   ]
  },
  {
   "cell_type": "code",
   "execution_count": 373,
   "metadata": {},
   "outputs": [
    {
     "data": {
      "text/html": [
       "<div>\n",
       "<style scoped>\n",
       "    .dataframe tbody tr th:only-of-type {\n",
       "        vertical-align: middle;\n",
       "    }\n",
       "\n",
       "    .dataframe tbody tr th {\n",
       "        vertical-align: top;\n",
       "    }\n",
       "\n",
       "    .dataframe thead th {\n",
       "        text-align: right;\n",
       "    }\n",
       "</style>\n",
       "<table border=\"1\" class=\"dataframe\">\n",
       "  <thead>\n",
       "    <tr style=\"text-align: right;\">\n",
       "      <th></th>\n",
       "      <th>competitor_name</th>\n",
       "      <th>placing</th>\n",
       "      <th>contest_name</th>\n",
       "      <th>contest_date</th>\n",
       "      <th>division</th>\n",
       "      <th>elo_rating</th>\n",
       "      <th>elo_percentile</th>\n",
       "      <th>elo_rank</th>\n",
       "    </tr>\n",
       "  </thead>\n",
       "  <tbody>\n",
       "    <tr>\n",
       "      <th>17027</th>\n",
       "      <td>paula gulman-williams</td>\n",
       "      <td>12.0</td>\n",
       "      <td>ifbb flex pro</td>\n",
       "      <td>2012-02-18</td>\n",
       "      <td>fitness</td>\n",
       "      <td>1500.0</td>\n",
       "      <td>0.541667</td>\n",
       "      <td>6.5</td>\n",
       "    </tr>\n",
       "    <tr>\n",
       "      <th>17055</th>\n",
       "      <td>lionel beyeke</td>\n",
       "      <td>1.0</td>\n",
       "      <td>ifbb flex pro</td>\n",
       "      <td>2012-02-18</td>\n",
       "      <td>men's bodybuilding</td>\n",
       "      <td>1500.0</td>\n",
       "      <td>0.529412</td>\n",
       "      <td>9.0</td>\n",
       "    </tr>\n",
       "    <tr>\n",
       "      <th>17054</th>\n",
       "      <td>ben pakulski</td>\n",
       "      <td>2.0</td>\n",
       "      <td>ifbb flex pro</td>\n",
       "      <td>2012-02-18</td>\n",
       "      <td>men's bodybuilding</td>\n",
       "      <td>1500.0</td>\n",
       "      <td>0.529412</td>\n",
       "      <td>9.0</td>\n",
       "    </tr>\n",
       "    <tr>\n",
       "      <th>17053</th>\n",
       "      <td>fouad abiad</td>\n",
       "      <td>3.0</td>\n",
       "      <td>ifbb flex pro</td>\n",
       "      <td>2012-02-18</td>\n",
       "      <td>men's bodybuilding</td>\n",
       "      <td>1500.0</td>\n",
       "      <td>0.529412</td>\n",
       "      <td>9.0</td>\n",
       "    </tr>\n",
       "    <tr>\n",
       "      <th>17052</th>\n",
       "      <td>shawn rhoden</td>\n",
       "      <td>4.0</td>\n",
       "      <td>ifbb flex pro</td>\n",
       "      <td>2012-02-18</td>\n",
       "      <td>men's bodybuilding</td>\n",
       "      <td>1500.0</td>\n",
       "      <td>0.529412</td>\n",
       "      <td>9.0</td>\n",
       "    </tr>\n",
       "  </tbody>\n",
       "</table>\n",
       "</div>"
      ],
      "text/plain": [
       "             competitor_name  placing   contest_name contest_date  \\\n",
       "17027  paula gulman-williams     12.0  ifbb flex pro   2012-02-18   \n",
       "17055          lionel beyeke      1.0  ifbb flex pro   2012-02-18   \n",
       "17054           ben pakulski      2.0  ifbb flex pro   2012-02-18   \n",
       "17053            fouad abiad      3.0  ifbb flex pro   2012-02-18   \n",
       "17052           shawn rhoden      4.0  ifbb flex pro   2012-02-18   \n",
       "\n",
       "                 division  elo_rating  elo_percentile  elo_rank  \n",
       "17027             fitness      1500.0        0.541667       6.5  \n",
       "17055  men's bodybuilding      1500.0        0.529412       9.0  \n",
       "17054  men's bodybuilding      1500.0        0.529412       9.0  \n",
       "17053  men's bodybuilding      1500.0        0.529412       9.0  \n",
       "17052  men's bodybuilding      1500.0        0.529412       9.0  "
      ]
     },
     "execution_count": 373,
     "metadata": {},
     "output_type": "execute_result"
    }
   ],
   "source": [
    "df_pro_open.head()"
   ]
  },
  {
   "cell_type": "code",
   "execution_count": 376,
   "metadata": {},
   "outputs": [
    {
     "data": {
      "text/plain": [
       "<Axes: >"
      ]
     },
     "execution_count": 376,
     "metadata": {},
     "output_type": "execute_result"
    },
    {
     "data": {
      "image/png": "[encoded data removed]",
      "text/plain": [
       "<Figure size 640x480 with 1 Axes>"
      ]
     },
     "metadata": {},
     "output_type": "display_data"
    }
   ],
   "source": [
    "abs(df_pro_open['placing'] - df_pro_open['elo_rank']).plot.box()"
   ]
  },
  {
   "cell_type": "code",
   "execution_count": null,
   "metadata": {},
   "outputs": [],
   "source": []
  },
  {
   "cell_type": "code",
   "execution_count": 371,
   "metadata": {},
   "outputs": [
    {
     "data": {
      "text/plain": [
       "elo_rank\n",
       "1.0     2150\n",
       "2.0     2104\n",
       "3.0     2018\n",
       "4.0     1905\n",
       "5.0     1838\n",
       "        ... \n",
       "60.0       1\n",
       "58.0       1\n",
       "62.0       1\n",
       "61.0       1\n",
       "59.0       1\n",
       "Name: count, Length: 86, dtype: int64"
      ]
     },
     "execution_count": 371,
     "metadata": {},
     "output_type": "execute_result"
    }
   ],
   "source": [
    "df_pro_open['elo_rank'].value_counts()"
   ]
  },
  {
   "cell_type": "code",
   "execution_count": null,
   "metadata": {},
   "outputs": [],
   "source": []
  }
 ],
 "metadata": {
  "kernelspec": {
   "display_name": ".venv",
   "language": "python",
   "name": "python3"
  },
  "language_info": {
   "codemirror_mode": {
    "name": "ipython",
    "version": 3
   },
   "file_extension": ".py",
   "mimetype": "text/x-python",
   "name": "python",
   "nbconvert_exporter": "python",
   "pygments_lexer": "ipython3",
   "version": "3.10.12"
  }
 },
 "nbformat": 4,
 "nbformat_minor": 2
}
