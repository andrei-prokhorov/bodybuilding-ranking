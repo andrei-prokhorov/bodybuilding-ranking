{
 "cells": [
  {
   "cell_type": "code",
   "execution_count": 66,
   "metadata": {},
   "outputs": [],
   "source": [
    "import pandas as pd\n",
    "import zipfile\n",
    "from elopy.elo import Elo\n",
    "import heapq\n",
    "import numpy as np\n",
    "import matplotlib.pyplot as plt\n",
    "import seaborn as sns\n",
    "import matplotlib.pyplot as plt\n",
    "from sklearn.metrics import ndcg_score"
   ]
  },
  {
   "cell_type": "code",
   "execution_count": 3,
   "metadata": {},
   "outputs": [],
   "source": [
    "with zipfile.ZipFile('data/contest_results.csv.zip', 'r') as zip_ref:\n",
    "    zip_ref.extractall('extracted_files')"
   ]
  },
  {
   "cell_type": "code",
   "execution_count": 4,
   "metadata": {},
   "outputs": [],
   "source": [
    "df = pd.read_csv('./extracted_files/contest_results.csv', parse_dates=['contest_date'])\n",
    "df.loc[df['placing'] > 16, 'placing'] = 16"
   ]
  },
  {
   "cell_type": "code",
   "execution_count": 5,
   "metadata": {},
   "outputs": [],
   "source": [
    "df_pro = df[df['organization'] == 'ifbb']\n",
    "df_pro_open = df_pro[df_pro['class'] == 'open']"
   ]
  },
  {
   "cell_type": "code",
   "execution_count": 6,
   "metadata": {},
   "outputs": [
    {
     "data": {
      "text/html": [
       "<div>\n",
       "<style scoped>\n",
       "    .dataframe tbody tr th:only-of-type {\n",
       "        vertical-align: middle;\n",
       "    }\n",
       "\n",
       "    .dataframe tbody tr th {\n",
       "        vertical-align: top;\n",
       "    }\n",
       "\n",
       "    .dataframe thead th {\n",
       "        text-align: right;\n",
       "    }\n",
       "</style>\n",
       "<table border=\"1\" class=\"dataframe\">\n",
       "  <thead>\n",
       "    <tr style=\"text-align: right;\">\n",
       "      <th></th>\n",
       "      <th>contest_url</th>\n",
       "      <th>competitor_name</th>\n",
       "      <th>competitor_url</th>\n",
       "      <th>organization</th>\n",
       "      <th>contest_name</th>\n",
       "      <th>contest_date</th>\n",
       "      <th>division</th>\n",
       "      <th>class</th>\n",
       "      <th>placing</th>\n",
       "      <th>scraped_timestamp</th>\n",
       "      <th>is_loaded</th>\n",
       "    </tr>\n",
       "  </thead>\n",
       "  <tbody>\n",
       "    <tr>\n",
       "      <th>17027</th>\n",
       "      <td>https://contests.npcnewsonline.com/contests/20...</td>\n",
       "      <td>paula gulman-williams</td>\n",
       "      <td>https://contests.npcnewsonline.com/contests/20...</td>\n",
       "      <td>ifbb</td>\n",
       "      <td>ifbb flex pro</td>\n",
       "      <td>2012-02-18</td>\n",
       "      <td>fitness</td>\n",
       "      <td>open</td>\n",
       "      <td>12.0</td>\n",
       "      <td>2023-11-07 03:09:15.053933 UTC</td>\n",
       "      <td>False</td>\n",
       "    </tr>\n",
       "    <tr>\n",
       "      <th>17028</th>\n",
       "      <td>https://contests.npcnewsonline.com/contests/20...</td>\n",
       "      <td>michele mayberry</td>\n",
       "      <td>https://contests.npcnewsonline.com/contests/20...</td>\n",
       "      <td>ifbb</td>\n",
       "      <td>ifbb flex pro</td>\n",
       "      <td>2012-02-18</td>\n",
       "      <td>fitness</td>\n",
       "      <td>open</td>\n",
       "      <td>11.0</td>\n",
       "      <td>2023-11-07 03:09:15.053471 UTC</td>\n",
       "      <td>False</td>\n",
       "    </tr>\n",
       "    <tr>\n",
       "      <th>17029</th>\n",
       "      <td>https://contests.npcnewsonline.com/contests/20...</td>\n",
       "      <td>sheri vucick</td>\n",
       "      <td>https://contests.npcnewsonline.com/contests/20...</td>\n",
       "      <td>ifbb</td>\n",
       "      <td>ifbb flex pro</td>\n",
       "      <td>2012-02-18</td>\n",
       "      <td>fitness</td>\n",
       "      <td>open</td>\n",
       "      <td>10.0</td>\n",
       "      <td>2023-11-07 03:09:15.05299 UTC</td>\n",
       "      <td>False</td>\n",
       "    </tr>\n",
       "    <tr>\n",
       "      <th>17030</th>\n",
       "      <td>https://contests.npcnewsonline.com/contests/20...</td>\n",
       "      <td>allison ethier</td>\n",
       "      <td>https://contests.npcnewsonline.com/contests/20...</td>\n",
       "      <td>ifbb</td>\n",
       "      <td>ifbb flex pro</td>\n",
       "      <td>2012-02-18</td>\n",
       "      <td>fitness</td>\n",
       "      <td>open</td>\n",
       "      <td>9.0</td>\n",
       "      <td>2023-11-07 03:09:15.05247 UTC</td>\n",
       "      <td>False</td>\n",
       "    </tr>\n",
       "    <tr>\n",
       "      <th>17031</th>\n",
       "      <td>https://contests.npcnewsonline.com/contests/20...</td>\n",
       "      <td>camala rodriguez</td>\n",
       "      <td>https://contests.npcnewsonline.com/contests/20...</td>\n",
       "      <td>ifbb</td>\n",
       "      <td>ifbb flex pro</td>\n",
       "      <td>2012-02-18</td>\n",
       "      <td>fitness</td>\n",
       "      <td>open</td>\n",
       "      <td>8.0</td>\n",
       "      <td>2023-11-07 03:09:15.052009 UTC</td>\n",
       "      <td>False</td>\n",
       "    </tr>\n",
       "  </tbody>\n",
       "</table>\n",
       "</div>"
      ],
      "text/plain": [
       "                                             contest_url  \\\n",
       "17027  https://contests.npcnewsonline.com/contests/20...   \n",
       "17028  https://contests.npcnewsonline.com/contests/20...   \n",
       "17029  https://contests.npcnewsonline.com/contests/20...   \n",
       "17030  https://contests.npcnewsonline.com/contests/20...   \n",
       "17031  https://contests.npcnewsonline.com/contests/20...   \n",
       "\n",
       "             competitor_name  \\\n",
       "17027  paula gulman-williams   \n",
       "17028       michele mayberry   \n",
       "17029           sheri vucick   \n",
       "17030         allison ethier   \n",
       "17031       camala rodriguez   \n",
       "\n",
       "                                          competitor_url organization  \\\n",
       "17027  https://contests.npcnewsonline.com/contests/20...         ifbb   \n",
       "17028  https://contests.npcnewsonline.com/contests/20...         ifbb   \n",
       "17029  https://contests.npcnewsonline.com/contests/20...         ifbb   \n",
       "17030  https://contests.npcnewsonline.com/contests/20...         ifbb   \n",
       "17031  https://contests.npcnewsonline.com/contests/20...         ifbb   \n",
       "\n",
       "        contest_name contest_date division class  placing  \\\n",
       "17027  ifbb flex pro   2012-02-18  fitness  open     12.0   \n",
       "17028  ifbb flex pro   2012-02-18  fitness  open     11.0   \n",
       "17029  ifbb flex pro   2012-02-18  fitness  open     10.0   \n",
       "17030  ifbb flex pro   2012-02-18  fitness  open      9.0   \n",
       "17031  ifbb flex pro   2012-02-18  fitness  open      8.0   \n",
       "\n",
       "                    scraped_timestamp  is_loaded  \n",
       "17027  2023-11-07 03:09:15.053933 UTC      False  \n",
       "17028  2023-11-07 03:09:15.053471 UTC      False  \n",
       "17029   2023-11-07 03:09:15.05299 UTC      False  \n",
       "17030   2023-11-07 03:09:15.05247 UTC      False  \n",
       "17031  2023-11-07 03:09:15.052009 UTC      False  "
      ]
     },
     "execution_count": 6,
     "metadata": {},
     "output_type": "execute_result"
    }
   ],
   "source": [
    "df_pro_open.head()"
   ]
  },
  {
   "cell_type": "code",
   "execution_count": 7,
   "metadata": {},
   "outputs": [],
   "source": [
    "df_pro = df_pro[['competitor_name', 'placing', 'contest_name', 'contest_date', 'division', 'class']]\n",
    "df_pro_open = df_pro_open[['competitor_name', 'placing', 'contest_name', 'contest_date', 'division']]"
   ]
  },
  {
   "cell_type": "code",
   "execution_count": 8,
   "metadata": {},
   "outputs": [],
   "source": [
    "# every pair of competitors from the same show & division get a row\n",
    "# think of this as a \"match\" in chess\n",
    "df_merge = pd.merge(df_pro,\n",
    "                    df_pro,\n",
    "                    on=['contest_name', 'contest_date', 'division', 'class'],\n",
    "                    how='inner',\n",
    "                    suffixes=('_winner', '_loser'))\n",
    "\n",
    "df_merge_open = pd.merge(df_pro_open,\n",
    "                    df_pro_open,\n",
    "                    on=['contest_name', 'contest_date', 'division'],\n",
    "                    how='inner',\n",
    "                    suffixes=('_winner', '_loser'))"
   ]
  },
  {
   "cell_type": "code",
   "execution_count": 9,
   "metadata": {},
   "outputs": [
    {
     "data": {
      "text/html": [
       "<div>\n",
       "<style scoped>\n",
       "    .dataframe tbody tr th:only-of-type {\n",
       "        vertical-align: middle;\n",
       "    }\n",
       "\n",
       "    .dataframe tbody tr th {\n",
       "        vertical-align: top;\n",
       "    }\n",
       "\n",
       "    .dataframe thead th {\n",
       "        text-align: right;\n",
       "    }\n",
       "</style>\n",
       "<table border=\"1\" class=\"dataframe\">\n",
       "  <thead>\n",
       "    <tr style=\"text-align: right;\">\n",
       "      <th></th>\n",
       "      <th>competitor_name_winner</th>\n",
       "      <th>placing_winner</th>\n",
       "      <th>contest_name</th>\n",
       "      <th>contest_date</th>\n",
       "      <th>division</th>\n",
       "      <th>class</th>\n",
       "      <th>competitor_name_loser</th>\n",
       "      <th>placing_loser</th>\n",
       "    </tr>\n",
       "  </thead>\n",
       "  <tbody>\n",
       "    <tr>\n",
       "      <th>0</th>\n",
       "      <td>paula gulman-williams</td>\n",
       "      <td>12.0</td>\n",
       "      <td>ifbb flex pro</td>\n",
       "      <td>2012-02-18</td>\n",
       "      <td>fitness</td>\n",
       "      <td>open</td>\n",
       "      <td>paula gulman-williams</td>\n",
       "      <td>12.0</td>\n",
       "    </tr>\n",
       "    <tr>\n",
       "      <th>1</th>\n",
       "      <td>paula gulman-williams</td>\n",
       "      <td>12.0</td>\n",
       "      <td>ifbb flex pro</td>\n",
       "      <td>2012-02-18</td>\n",
       "      <td>fitness</td>\n",
       "      <td>open</td>\n",
       "      <td>michele mayberry</td>\n",
       "      <td>11.0</td>\n",
       "    </tr>\n",
       "    <tr>\n",
       "      <th>2</th>\n",
       "      <td>paula gulman-williams</td>\n",
       "      <td>12.0</td>\n",
       "      <td>ifbb flex pro</td>\n",
       "      <td>2012-02-18</td>\n",
       "      <td>fitness</td>\n",
       "      <td>open</td>\n",
       "      <td>sheri vucick</td>\n",
       "      <td>10.0</td>\n",
       "    </tr>\n",
       "    <tr>\n",
       "      <th>3</th>\n",
       "      <td>paula gulman-williams</td>\n",
       "      <td>12.0</td>\n",
       "      <td>ifbb flex pro</td>\n",
       "      <td>2012-02-18</td>\n",
       "      <td>fitness</td>\n",
       "      <td>open</td>\n",
       "      <td>allison ethier</td>\n",
       "      <td>9.0</td>\n",
       "    </tr>\n",
       "    <tr>\n",
       "      <th>4</th>\n",
       "      <td>paula gulman-williams</td>\n",
       "      <td>12.0</td>\n",
       "      <td>ifbb flex pro</td>\n",
       "      <td>2012-02-18</td>\n",
       "      <td>fitness</td>\n",
       "      <td>open</td>\n",
       "      <td>camala rodriguez</td>\n",
       "      <td>8.0</td>\n",
       "    </tr>\n",
       "  </tbody>\n",
       "</table>\n",
       "</div>"
      ],
      "text/plain": [
       "  competitor_name_winner  placing_winner   contest_name contest_date division  \\\n",
       "0  paula gulman-williams            12.0  ifbb flex pro   2012-02-18  fitness   \n",
       "1  paula gulman-williams            12.0  ifbb flex pro   2012-02-18  fitness   \n",
       "2  paula gulman-williams            12.0  ifbb flex pro   2012-02-18  fitness   \n",
       "3  paula gulman-williams            12.0  ifbb flex pro   2012-02-18  fitness   \n",
       "4  paula gulman-williams            12.0  ifbb flex pro   2012-02-18  fitness   \n",
       "\n",
       "  class  competitor_name_loser  placing_loser  \n",
       "0  open  paula gulman-williams           12.0  \n",
       "1  open       michele mayberry           11.0  \n",
       "2  open           sheri vucick           10.0  \n",
       "3  open         allison ethier            9.0  \n",
       "4  open       camala rodriguez            8.0  "
      ]
     },
     "execution_count": 9,
     "metadata": {},
     "output_type": "execute_result"
    }
   ],
   "source": [
    "df_merge.head()"
   ]
  },
  {
   "cell_type": "code",
   "execution_count": 10,
   "metadata": {},
   "outputs": [],
   "source": [
    "df_merge = df_merge[df_merge['placing_winner'] < df_merge['placing_loser']]\n",
    "df_merge_open = df_merge_open[df_merge_open['placing_winner'] < df_merge_open['placing_loser']]"
   ]
  },
  {
   "cell_type": "code",
   "execution_count": 11,
   "metadata": {},
   "outputs": [],
   "source": [
    "df_merge = df_merge[['competitor_name_winner', 'placing_winner', 'competitor_name_loser', 'placing_loser', 'contest_date', 'contest_name', 'division', 'class']]\n",
    "df_merge_open = df_merge_open[['competitor_name_winner', 'placing_winner', 'competitor_name_loser', 'placing_loser', 'contest_date', 'contest_name', 'division']]"
   ]
  },
  {
   "cell_type": "code",
   "execution_count": 12,
   "metadata": {},
   "outputs": [
    {
     "data": {
      "text/html": [
       "<div>\n",
       "<style scoped>\n",
       "    .dataframe tbody tr th:only-of-type {\n",
       "        vertical-align: middle;\n",
       "    }\n",
       "\n",
       "    .dataframe tbody tr th {\n",
       "        vertical-align: top;\n",
       "    }\n",
       "\n",
       "    .dataframe thead th {\n",
       "        text-align: right;\n",
       "    }\n",
       "</style>\n",
       "<table border=\"1\" class=\"dataframe\">\n",
       "  <thead>\n",
       "    <tr style=\"text-align: right;\">\n",
       "      <th></th>\n",
       "      <th>competitor_name_winner</th>\n",
       "      <th>placing_winner</th>\n",
       "      <th>competitor_name_loser</th>\n",
       "      <th>placing_loser</th>\n",
       "      <th>contest_date</th>\n",
       "      <th>contest_name</th>\n",
       "      <th>division</th>\n",
       "      <th>class</th>\n",
       "    </tr>\n",
       "  </thead>\n",
       "  <tbody>\n",
       "    <tr>\n",
       "      <th>12</th>\n",
       "      <td>michele mayberry</td>\n",
       "      <td>11.0</td>\n",
       "      <td>paula gulman-williams</td>\n",
       "      <td>12.0</td>\n",
       "      <td>2012-02-18</td>\n",
       "      <td>ifbb flex pro</td>\n",
       "      <td>fitness</td>\n",
       "      <td>open</td>\n",
       "    </tr>\n",
       "    <tr>\n",
       "      <th>24</th>\n",
       "      <td>sheri vucick</td>\n",
       "      <td>10.0</td>\n",
       "      <td>paula gulman-williams</td>\n",
       "      <td>12.0</td>\n",
       "      <td>2012-02-18</td>\n",
       "      <td>ifbb flex pro</td>\n",
       "      <td>fitness</td>\n",
       "      <td>open</td>\n",
       "    </tr>\n",
       "    <tr>\n",
       "      <th>25</th>\n",
       "      <td>sheri vucick</td>\n",
       "      <td>10.0</td>\n",
       "      <td>michele mayberry</td>\n",
       "      <td>11.0</td>\n",
       "      <td>2012-02-18</td>\n",
       "      <td>ifbb flex pro</td>\n",
       "      <td>fitness</td>\n",
       "      <td>open</td>\n",
       "    </tr>\n",
       "    <tr>\n",
       "      <th>36</th>\n",
       "      <td>allison ethier</td>\n",
       "      <td>9.0</td>\n",
       "      <td>paula gulman-williams</td>\n",
       "      <td>12.0</td>\n",
       "      <td>2012-02-18</td>\n",
       "      <td>ifbb flex pro</td>\n",
       "      <td>fitness</td>\n",
       "      <td>open</td>\n",
       "    </tr>\n",
       "    <tr>\n",
       "      <th>37</th>\n",
       "      <td>allison ethier</td>\n",
       "      <td>9.0</td>\n",
       "      <td>michele mayberry</td>\n",
       "      <td>11.0</td>\n",
       "      <td>2012-02-18</td>\n",
       "      <td>ifbb flex pro</td>\n",
       "      <td>fitness</td>\n",
       "      <td>open</td>\n",
       "    </tr>\n",
       "  </tbody>\n",
       "</table>\n",
       "</div>"
      ],
      "text/plain": [
       "   competitor_name_winner  placing_winner  competitor_name_loser  \\\n",
       "12       michele mayberry            11.0  paula gulman-williams   \n",
       "24           sheri vucick            10.0  paula gulman-williams   \n",
       "25           sheri vucick            10.0       michele mayberry   \n",
       "36         allison ethier             9.0  paula gulman-williams   \n",
       "37         allison ethier             9.0       michele mayberry   \n",
       "\n",
       "    placing_loser contest_date   contest_name division class  \n",
       "12           12.0   2012-02-18  ifbb flex pro  fitness  open  \n",
       "24           12.0   2012-02-18  ifbb flex pro  fitness  open  \n",
       "25           11.0   2012-02-18  ifbb flex pro  fitness  open  \n",
       "36           12.0   2012-02-18  ifbb flex pro  fitness  open  \n",
       "37           11.0   2012-02-18  ifbb flex pro  fitness  open  "
      ]
     },
     "execution_count": 12,
     "metadata": {},
     "output_type": "execute_result"
    }
   ],
   "source": [
    "df_merge.head()"
   ]
  },
  {
   "cell_type": "code",
   "execution_count": 13,
   "metadata": {},
   "outputs": [
    {
     "data": {
      "text/plain": [
       "contest_date\n",
       "2022-12-13    4302\n",
       "2023-11-03    2617\n",
       "2016-12-28    2206\n",
       "2021-12-30    2070\n",
       "2014-06-10    1973\n",
       "2018-09-14    1911\n",
       "2015-09-17    1848\n",
       "2017-09-15    1839\n",
       "2020-12-18    1782\n",
       "2019-09-13    1668\n",
       "2014-09-18    1184\n",
       "2012-09-28    1098\n",
       "2013-09-26     988\n",
       "2014-06-16     802\n",
       "2012-12-06     390\n",
       "2012-12-02     105\n",
       "Name: count, dtype: int64"
      ]
     },
     "execution_count": 13,
     "metadata": {},
     "output_type": "execute_result"
    }
   ],
   "source": [
    "df_merge[df_merge['contest_name'].str.contains('olympia')]['contest_date'].value_counts()"
   ]
  },
  {
   "cell_type": "code",
   "execution_count": 14,
   "metadata": {},
   "outputs": [],
   "source": [
    "olympia_2022 = '2022-12-13'\n",
    "olympia_2023 = '2023-11-03'"
   ]
  },
  {
   "cell_type": "code",
   "execution_count": 15,
   "metadata": {},
   "outputs": [],
   "source": [
    "df_2023 = df_merge[df_merge['contest_date'] < olympia_2023]\n",
    "df_2023 = df_2023.sort_values(by='contest_date', ascending=True)"
   ]
  },
  {
   "cell_type": "code",
   "execution_count": 16,
   "metadata": {},
   "outputs": [],
   "source": [
    "# dictionary maps competitor name to their Elo rating class\n",
    "competitors = {}"
   ]
  },
  {
   "cell_type": "code",
   "execution_count": 17,
   "metadata": {},
   "outputs": [],
   "source": [
    "for index, row in df_2023.iterrows():\n",
    "    winner = row['competitor_name_winner']\n",
    "    loser = row['competitor_name_loser']\n",
    "    rank_diff = row['placing_loser'] - row['placing_winner']\n",
    "    if winner not in competitors:\n",
    "        competitors[winner] = Elo()\n",
    "    if loser not in competitors:\n",
    "        competitors[loser] = Elo()\n",
    "        \n",
    "    competitors[winner].play_game(competitors[loser], rank_diff)"
   ]
  },
  {
   "cell_type": "code",
   "execution_count": 18,
   "metadata": {},
   "outputs": [],
   "source": [
    "bikini_olympia = df_pro[(df_pro['contest_date'] == olympia_2023)\n",
    "       & (df_pro['division'] == 'bikini')]['competitor_name'].unique()\n",
    "\n",
    "bikini_olympia = [name for name in bikini_olympia if name in competitors]"
   ]
  },
  {
   "cell_type": "code",
   "execution_count": 19,
   "metadata": {},
   "outputs": [
    {
     "name": "stdout",
     "output_type": "stream",
     "text": [
      "(-2278.997071660935, 'ashley kaltwasser')\n",
      "(-2270.7277551699804, 'jennifer dorie')\n",
      "(-2257.1958112947177, 'lauralie chapados')\n",
      "(-2195.406290651582, 'elisa pecini')\n",
      "(-2176.5894203897924, 'maureen blanquisco')\n",
      "(-2122.735828730946, 'daraja hill')\n",
      "(-2069.941998089539, 'romina basualdo')\n",
      "(-2069.4682338519206, 'aimee leann delgado')\n",
      "(-2025.5617500424798, 'jourdanne lee')\n",
      "(-1983.3070900329278, 'ivanna escandar')\n"
     ]
    }
   ],
   "source": [
    "top_ten = []\n",
    "name_rating = [(-competitors[name].elo, name) for name in bikini_olympia]\n",
    "heapq.heapify(name_rating)\n",
    "for i in range(10):\n",
    "    print(heapq.heappop(name_rating))"
   ]
  },
  {
   "cell_type": "code",
   "execution_count": 20,
   "metadata": {},
   "outputs": [
    {
     "data": {
      "text/plain": [
       "0.8843758458824753"
      ]
     },
     "execution_count": 20,
     "metadata": {},
     "output_type": "execute_result"
    }
   ],
   "source": [
    "competitors['ashley kaltwasser'].win_probs(competitors['jourdanne lee'])\n"
   ]
  },
  {
   "cell_type": "code",
   "execution_count": 21,
   "metadata": {},
   "outputs": [],
   "source": [
    "df_2022 = df_merge[df_merge['contest_date'] < olympia_2022]\n",
    "df_2022 = df_2022.sort_values(by='contest_date', ascending=True)\n",
    "\n",
    "competitors = {}\n",
    "\n",
    "for index, row in df_2022.iterrows():\n",
    "    winner = row['competitor_name_winner']\n",
    "    loser = row['competitor_name_loser']\n",
    "    rank_diff = row['placing_loser'] - row['placing_winner']\n",
    "    if winner not in competitors:\n",
    "        competitors[winner] = Elo()\n",
    "    if loser not in competitors:\n",
    "        competitors[loser] = Elo()\n",
    "    competitors[winner].play_game(competitors[loser], rank_diff)\n",
    "\n",
    "bikini_olympia = df_pro[(df_pro['contest_date'] == olympia_2022)\n",
    "       & (df_pro['division'] == 'bikini')]['competitor_name'].unique()\n",
    "\n",
    "bikini_olympia = [name for name in bikini_olympia if name in competitors]"
   ]
  },
  {
   "cell_type": "code",
   "execution_count": 22,
   "metadata": {},
   "outputs": [
    {
     "name": "stdout",
     "output_type": "stream",
     "text": [
      "(-2242.240323340484, 'lauralie chapados')\n",
      "(-2236.585505267137, 'ashley kaltwasser')\n",
      "(-2235.216539225168, 'janet layug')\n",
      "(-2220.9980372560767, 'jennifer dorie')\n",
      "(-2212.1110195844963, 'elisa pecini')\n",
      "(-2061.807677715691, 'maureen blanquisco')\n",
      "(-2060.564879736981, 'india paulino')\n",
      "(-2042.5153008347124, 'romina basualdo')\n",
      "(-2030.0138597997966, 'daraja hill')\n",
      "(-2020.7686899396751, 'ashlyn little')\n"
     ]
    }
   ],
   "source": [
    "top_ten = []\n",
    "name_rating = [(-competitors[name].elo, name) for name in bikini_olympia]\n",
    "heapq.heapify(name_rating)\n",
    "for i in range(10):\n",
    "    print(heapq.heappop(name_rating))"
   ]
  },
  {
   "cell_type": "code",
   "execution_count": 23,
   "metadata": {},
   "outputs": [
    {
     "data": {
      "text/plain": [
       "0.6604667612688553"
      ]
     },
     "execution_count": 23,
     "metadata": {},
     "output_type": "execute_result"
    }
   ],
   "source": [
    "competitors['ashley kaltwasser'].win_probs(competitors['jennifer dorie'])"
   ]
  },
  {
   "cell_type": "markdown",
   "metadata": {},
   "source": [
    "# Elo Rating Column\n",
    "Here we will create a column in df_pro which includes the competitor's Elo rating leading up to that competition."
   ]
  },
  {
   "cell_type": "code",
   "execution_count": 24,
   "metadata": {},
   "outputs": [],
   "source": [
    "df_pro_open = df_pro_open.sort_values(by='contest_date', ascending=True)"
   ]
  },
  {
   "cell_type": "code",
   "execution_count": 65,
   "metadata": {},
   "outputs": [],
   "source": [
    "competitors_open = {}\n",
    "\n",
    "for k in range(10, 300, 50):\n",
    "    competitors_open[k] = {}\n",
    "    for contest_date in df_pro_open['contest_date'].unique():\n",
    "        for index, row in df_pro_open[df_pro_open['contest_date'] == contest_date].iterrows():\n",
    "\n",
    "            if row['competitor_name'] not in competitors_open[k]:\n",
    "                competitors_open[k][row['competitor_name']] = Elo(k=k)\n",
    "\n",
    "            df_pro_open.loc[index, f'elo_{k}_rating'] = competitors_open[k][row['competitor_name']].elo\n",
    "\n",
    "        for index, row in df_merge_open[df_merge_open['contest_date'] == contest_date].iterrows():\n",
    "            winner = row['competitor_name_winner']\n",
    "            loser = row['competitor_name_loser']\n",
    "            rank_diff = row['placing_loser'] - row['placing_winner']\n",
    "                \n",
    "            competitors_open[k][winner].play_game(competitors_open[k][loser], rank_diff)\n",
    "\n",
    "    df_pro_open[f'elo_{k}_percentile'] = df_pro_open.groupby(['contest_date', 'contest_name', 'division'])[f'elo_{k}_rating'].rank(pct=True)"
   ]
  },
  {
   "cell_type": "code",
   "execution_count": 58,
   "metadata": {},
   "outputs": [
    {
     "data": {
      "text/html": [
       "<div>\n",
       "<style scoped>\n",
       "    .dataframe tbody tr th:only-of-type {\n",
       "        vertical-align: middle;\n",
       "    }\n",
       "\n",
       "    .dataframe tbody tr th {\n",
       "        vertical-align: top;\n",
       "    }\n",
       "\n",
       "    .dataframe thead th {\n",
       "        text-align: right;\n",
       "    }\n",
       "</style>\n",
       "<table border=\"1\" class=\"dataframe\">\n",
       "  <thead>\n",
       "    <tr style=\"text-align: right;\">\n",
       "      <th></th>\n",
       "      <th>competitor_name</th>\n",
       "      <th>placing</th>\n",
       "      <th>contest_name</th>\n",
       "      <th>contest_date</th>\n",
       "      <th>division</th>\n",
       "      <th>elo_rating</th>\n",
       "      <th>elo_percentile</th>\n",
       "      <th>elo_rank</th>\n",
       "      <th>elo_10_rating</th>\n",
       "      <th>elo_10_percentile</th>\n",
       "      <th>...</th>\n",
       "      <th>elo_160_percentile</th>\n",
       "      <th>elo_210_rating</th>\n",
       "      <th>elo_210_percentile</th>\n",
       "      <th>elo_260_rating</th>\n",
       "      <th>elo_260_percentile</th>\n",
       "      <th>elo_310_rating</th>\n",
       "      <th>elo_310_percentile</th>\n",
       "      <th>elo_360_rating</th>\n",
       "      <th>elo_360_percentile</th>\n",
       "      <th>elo_410_rating</th>\n",
       "    </tr>\n",
       "  </thead>\n",
       "  <tbody>\n",
       "    <tr>\n",
       "      <th>74414</th>\n",
       "      <td>ren yi xie</td>\n",
       "      <td>6.0</td>\n",
       "      <td>ifbb professional league china dms pro shanghai</td>\n",
       "      <td>2024-03-01</td>\n",
       "      <td>men's physique</td>\n",
       "      <td>1500.000000</td>\n",
       "      <td>0.5625</td>\n",
       "      <td>4.5</td>\n",
       "      <td>1500.000000</td>\n",
       "      <td>0.5625</td>\n",
       "      <td>...</td>\n",
       "      <td>0.6875</td>\n",
       "      <td>1500.000000</td>\n",
       "      <td>0.6875</td>\n",
       "      <td>1500.000000</td>\n",
       "      <td>0.6875</td>\n",
       "      <td>1500.000000</td>\n",
       "      <td>0.6875</td>\n",
       "      <td>1500.000000</td>\n",
       "      <td>0.6875</td>\n",
       "      <td>NaN</td>\n",
       "    </tr>\n",
       "    <tr>\n",
       "      <th>74415</th>\n",
       "      <td>xingwang yang</td>\n",
       "      <td>5.0</td>\n",
       "      <td>ifbb professional league china dms pro shanghai</td>\n",
       "      <td>2024-03-01</td>\n",
       "      <td>men's physique</td>\n",
       "      <td>1500.000000</td>\n",
       "      <td>0.5625</td>\n",
       "      <td>4.5</td>\n",
       "      <td>1500.000000</td>\n",
       "      <td>0.5625</td>\n",
       "      <td>...</td>\n",
       "      <td>0.6875</td>\n",
       "      <td>1500.000000</td>\n",
       "      <td>0.6875</td>\n",
       "      <td>1500.000000</td>\n",
       "      <td>0.6875</td>\n",
       "      <td>1500.000000</td>\n",
       "      <td>0.6875</td>\n",
       "      <td>1500.000000</td>\n",
       "      <td>0.6875</td>\n",
       "      <td>NaN</td>\n",
       "    </tr>\n",
       "    <tr>\n",
       "      <th>74416</th>\n",
       "      <td>abdullah al salem</td>\n",
       "      <td>4.0</td>\n",
       "      <td>ifbb professional league china dms pro shanghai</td>\n",
       "      <td>2024-03-01</td>\n",
       "      <td>men's physique</td>\n",
       "      <td>1530.254944</td>\n",
       "      <td>0.8750</td>\n",
       "      <td>6.0</td>\n",
       "      <td>1500.646795</td>\n",
       "      <td>0.7500</td>\n",
       "      <td>...</td>\n",
       "      <td>0.8750</td>\n",
       "      <td>1534.088927</td>\n",
       "      <td>0.8750</td>\n",
       "      <td>1531.441383</td>\n",
       "      <td>0.8750</td>\n",
       "      <td>1522.382672</td>\n",
       "      <td>0.8750</td>\n",
       "      <td>1512.350775</td>\n",
       "      <td>0.8750</td>\n",
       "      <td>NaN</td>\n",
       "    </tr>\n",
       "    <tr>\n",
       "      <th>74417</th>\n",
       "      <td>yiming wei</td>\n",
       "      <td>3.0</td>\n",
       "      <td>ifbb professional league china dms pro shanghai</td>\n",
       "      <td>2024-03-01</td>\n",
       "      <td>men's physique</td>\n",
       "      <td>1513.489760</td>\n",
       "      <td>0.7500</td>\n",
       "      <td>8.0</td>\n",
       "      <td>1519.870221</td>\n",
       "      <td>1.0000</td>\n",
       "      <td>...</td>\n",
       "      <td>0.5000</td>\n",
       "      <td>1483.231418</td>\n",
       "      <td>0.5000</td>\n",
       "      <td>1472.726432</td>\n",
       "      <td>0.5000</td>\n",
       "      <td>1461.331899</td>\n",
       "      <td>0.5000</td>\n",
       "      <td>1451.684278</td>\n",
       "      <td>0.5000</td>\n",
       "      <td>NaN</td>\n",
       "    </tr>\n",
       "    <tr>\n",
       "      <th>74419</th>\n",
       "      <td>carlos asiedu ocran</td>\n",
       "      <td>1.0</td>\n",
       "      <td>ifbb professional league china dms pro shanghai</td>\n",
       "      <td>2024-03-01</td>\n",
       "      <td>men's physique</td>\n",
       "      <td>1408.432332</td>\n",
       "      <td>0.3750</td>\n",
       "      <td>3.0</td>\n",
       "      <td>1482.297860</td>\n",
       "      <td>0.3750</td>\n",
       "      <td>...</td>\n",
       "      <td>0.3750</td>\n",
       "      <td>1362.113443</td>\n",
       "      <td>0.3750</td>\n",
       "      <td>1345.679987</td>\n",
       "      <td>0.3750</td>\n",
       "      <td>1330.092145</td>\n",
       "      <td>0.3750</td>\n",
       "      <td>1314.684267</td>\n",
       "      <td>0.3750</td>\n",
       "      <td>NaN</td>\n",
       "    </tr>\n",
       "  </tbody>\n",
       "</table>\n",
       "<p>5 rows × 25 columns</p>\n",
       "</div>"
      ],
      "text/plain": [
       "           competitor_name  placing  \\\n",
       "74414           ren yi xie      6.0   \n",
       "74415        xingwang yang      5.0   \n",
       "74416    abdullah al salem      4.0   \n",
       "74417           yiming wei      3.0   \n",
       "74419  carlos asiedu ocran      1.0   \n",
       "\n",
       "                                          contest_name contest_date  \\\n",
       "74414  ifbb professional league china dms pro shanghai   2024-03-01   \n",
       "74415  ifbb professional league china dms pro shanghai   2024-03-01   \n",
       "74416  ifbb professional league china dms pro shanghai   2024-03-01   \n",
       "74417  ifbb professional league china dms pro shanghai   2024-03-01   \n",
       "74419  ifbb professional league china dms pro shanghai   2024-03-01   \n",
       "\n",
       "             division   elo_rating  elo_percentile  elo_rank  elo_10_rating  \\\n",
       "74414  men's physique  1500.000000          0.5625       4.5    1500.000000   \n",
       "74415  men's physique  1500.000000          0.5625       4.5    1500.000000   \n",
       "74416  men's physique  1530.254944          0.8750       6.0    1500.646795   \n",
       "74417  men's physique  1513.489760          0.7500       8.0    1519.870221   \n",
       "74419  men's physique  1408.432332          0.3750       3.0    1482.297860   \n",
       "\n",
       "       elo_10_percentile  ...  elo_160_percentile  elo_210_rating  \\\n",
       "74414             0.5625  ...              0.6875     1500.000000   \n",
       "74415             0.5625  ...              0.6875     1500.000000   \n",
       "74416             0.7500  ...              0.8750     1534.088927   \n",
       "74417             1.0000  ...              0.5000     1483.231418   \n",
       "74419             0.3750  ...              0.3750     1362.113443   \n",
       "\n",
       "       elo_210_percentile  elo_260_rating  elo_260_percentile  elo_310_rating  \\\n",
       "74414              0.6875     1500.000000              0.6875     1500.000000   \n",
       "74415              0.6875     1500.000000              0.6875     1500.000000   \n",
       "74416              0.8750     1531.441383              0.8750     1522.382672   \n",
       "74417              0.5000     1472.726432              0.5000     1461.331899   \n",
       "74419              0.3750     1345.679987              0.3750     1330.092145   \n",
       "\n",
       "       elo_310_percentile  elo_360_rating  elo_360_percentile  elo_410_rating  \n",
       "74414              0.6875     1500.000000              0.6875             NaN  \n",
       "74415              0.6875     1500.000000              0.6875             NaN  \n",
       "74416              0.8750     1512.350775              0.8750             NaN  \n",
       "74417              0.5000     1451.684278              0.5000             NaN  \n",
       "74419              0.3750     1314.684267              0.3750             NaN  \n",
       "\n",
       "[5 rows x 25 columns]"
      ]
     },
     "execution_count": 58,
     "metadata": {},
     "output_type": "execute_result"
    }
   ],
   "source": [
    "df_pro_open.tail()"
   ]
  },
  {
   "cell_type": "code",
   "execution_count": 60,
   "metadata": {},
   "outputs": [
    {
     "name": "stderr",
     "output_type": "stream",
     "text": [
      "No artists with labels found to put in legend.  Note that artists whose label start with an underscore are ignored when legend() is called with no argument.\n"
     ]
    },
    {
     "data": {
      "text/plain": [
       "<matplotlib.legend.Legend at 0x29d17ebc0>"
      ]
     },
     "execution_count": 60,
     "metadata": {},
     "output_type": "execute_result"
    },
    {
     "data": {
      "image/png": "[encoded data removed]",
      "text/plain": [
       "<Figure size 640x480 with 1 Axes>"
      ]
     },
     "metadata": {},
     "output_type": "display_data"
    }
   ],
   "source": [
    "for k in range(10, 410, 50):\n",
    "    plt.scatter(df_pro_open[df_pro_open['competitor_name'] == 'janet layug']['contest_date'],\n",
    "                df_pro_open[df_pro_open['competitor_name'] == 'janet layug'][f'elo_{k}_rating'])\n",
    "plt.legend()"
   ]
  },
  {
   "cell_type": "code",
   "execution_count": 64,
   "metadata": {},
   "outputs": [
    {
     "name": "stdout",
     "output_type": "stream",
     "text": [
      "k = 10, division is bikini, and average is 0.8617781854535324\n",
      "k = 10, division is figure, and average is 0.8546427928803239\n",
      "k = 60, division is bikini, and average is 0.8698746690147899\n",
      "k = 60, division is figure, and average is 0.861980203504696\n",
      "k = 110, division is bikini, and average is 0.8704453784000558\n",
      "k = 110, division is figure, and average is 0.8607458530931342\n",
      "k = 160, division is bikini, and average is 0.8705169096812077\n",
      "k = 160, division is figure, and average is 0.8600249598809453\n",
      "k = 210, division is bikini, and average is 0.8695754138536823\n",
      "k = 210, division is figure, and average is 0.8589308122108644\n",
      "k = 260, division is bikini, and average is 0.8686865396059826\n",
      "k = 260, division is figure, and average is 0.8582881884586778\n",
      "k = 310, division is bikini, and average is 0.8661674619712105\n",
      "k = 310, division is figure, and average is 0.8578184943682167\n",
      "k = 360, division is bikini, and average is 0.866009820465521\n",
      "k = 360, division is figure, and average is 0.8547105805472786\n"
     ]
    }
   ],
   "source": [
    "for k in range(10, 410, 50):\n",
    "    for idx, div in enumerate(['bikini', 'figure']):\n",
    "        df_groupby = (df_pro_open[(df_pro_open['placing'] == 1) & (df_pro_open['division'] == div)]\n",
    "                    .groupby(by = ['division', 'contest_date']))\n",
    "        mean_elo_percentile = df_groupby[f'elo_{k}_percentile'].mean()\n",
    "        mean_elo_percentile = mean_elo_percentile.reset_index()\n",
    "        mean_elo_percentile[f'30day_{k}_rolling_avg'] = mean_elo_percentile[f'elo_{k}_percentile'].rolling(30).mean()\n",
    "    \n",
    "        print(f\"k = {k}, division is {div}, and average is {mean_elo_percentile[f'30day_{k}_rolling_avg'].mean()}\")\n",
    "\n",
    "    # sns.lineplot(x='contest_date',\n",
    "    #             y='30day_rolling_avg',\n",
    "    #             data=mean_elo_percentile,\n",
    "    #             palette='deep')\n",
    "    # plt.legend()\n",
    "    # plt.xticks(rotation=90);\n"
   ]
  },
  {
   "cell_type": "code",
   "execution_count": 54,
   "metadata": {},
   "outputs": [
    {
     "data": {
      "text/plain": [
       "1196"
      ]
     },
     "execution_count": 54,
     "metadata": {},
     "output_type": "execute_result"
    }
   ],
   "source": [
    "len(df_pro_open[(df_pro_open['contest_date'] < '2014-01-01') & (df_pro_open['contest_date'] > '2012-01-01')]['competitor_name'].unique())"
   ]
  },
  {
   "cell_type": "code",
   "execution_count": 56,
   "metadata": {},
   "outputs": [
    {
     "name": "stderr",
     "output_type": "stream",
     "text": [
      "/var/folders/0s/9k5wnkxx22l_g6lmt5xw673m0000gq/T/ipykernel_27781/3683859537.py:8: UserWarning: Ignoring `palette` because no `hue` variable has been assigned.\n",
      "  sns.lineplot(x='contest_date',\n",
      "No artists with labels found to put in legend.  Note that artists whose label start with an underscore are ignored when legend() is called with no argument.\n",
      "/var/folders/0s/9k5wnkxx22l_g6lmt5xw673m0000gq/T/ipykernel_27781/3683859537.py:8: UserWarning: Ignoring `palette` because no `hue` variable has been assigned.\n",
      "  sns.lineplot(x='contest_date',\n",
      "No artists with labels found to put in legend.  Note that artists whose label start with an underscore are ignored when legend() is called with no argument.\n"
     ]
    },
    {
     "data": {
      "image/png": "[encoded data removed]",
      "text/plain": [
       "<Figure size 640x480 with 1 Axes>"
      ]
     },
     "metadata": {},
     "output_type": "display_data"
    }
   ],
   "source": [
    "for idx, div in enumerate(['men\\'s physique', 'men\\'s bodybuilding']):\n",
    "    df_groupby = (df_pro_open[(df_pro_open['placing'] == 1) & (df_pro_open['division'] == div)]\n",
    "                  .groupby(by = ['division', 'contest_date']))\n",
    "    mean_elo_percentile = df_groupby['elo_percentile'].mean()\n",
    "    mean_elo_percentile = mean_elo_percentile.reset_index()\n",
    "    mean_elo_percentile['30day_rolling_avg'] = mean_elo_percentile['elo_percentile'].rolling(30).mean()\n",
    "\n",
    "    sns.lineplot(x='contest_date',\n",
    "                y='30day_rolling_avg',\n",
    "                data=mean_elo_percentile,\n",
    "                palette='deep')\n",
    "    plt.legend()\n",
    "    plt.xticks(rotation=90);"
   ]
  },
  {
   "cell_type": "code",
   "execution_count": 31,
   "metadata": {},
   "outputs": [
    {
     "data": {
      "text/plain": [
       "division\n",
       "bikini                    9273\n",
       "men's physique            7864\n",
       "figure                    5465\n",
       "women's physique          3913\n",
       "men's classic physique    3391\n",
       "men's bodybuilding        2779\n",
       "212                       2042\n",
       "fitness                   1337\n",
       "women's bodybuilding      1134\n",
       "wellness                   921\n",
       "women's wellness           188\n",
       "Name: count, dtype: int64"
      ]
     },
     "execution_count": 31,
     "metadata": {},
     "output_type": "execute_result"
    }
   ],
   "source": [
    "df_pro_open['division'].value_counts()"
   ]
  },
  {
   "cell_type": "code",
   "execution_count": 82,
   "metadata": {},
   "outputs": [],
   "source": [
    "for k in range(10, 300, 50):\n",
    "    df_pro_open[f'elo_{k}_rank'] = df_pro_open.groupby(['contest_date', 'contest_name', 'division'])[f'elo_{k}_rating'].rank(ascending=False, method='first')\n",
    "    df_pro_open.loc[df_pro_open[f'elo_{k}_rank'] > 16, f'elo_{k}_rank'] = 16\n",
    "df_pro_open[f'elo_rank'] = df_pro_open.groupby(['contest_date', 'contest_name', 'division'])[f'elo_rating'].rank(ascending=False, method='first')\n",
    "df_pro_open.loc[df_pro_open[f'elo_rank'] > 16, f'elo_rank'] = 16"
   ]
  },
  {
   "cell_type": "code",
   "execution_count": 84,
   "metadata": {},
   "outputs": [
    {
     "data": {
      "text/html": [
       "<div>\n",
       "<style scoped>\n",
       "    .dataframe tbody tr th:only-of-type {\n",
       "        vertical-align: middle;\n",
       "    }\n",
       "\n",
       "    .dataframe tbody tr th {\n",
       "        vertical-align: top;\n",
       "    }\n",
       "\n",
       "    .dataframe thead th {\n",
       "        text-align: right;\n",
       "    }\n",
       "</style>\n",
       "<table border=\"1\" class=\"dataframe\">\n",
       "  <thead>\n",
       "    <tr style=\"text-align: right;\">\n",
       "      <th></th>\n",
       "      <th>competitor_name</th>\n",
       "      <th>placing</th>\n",
       "      <th>contest_name</th>\n",
       "      <th>contest_date</th>\n",
       "      <th>division</th>\n",
       "      <th>elo_rating</th>\n",
       "      <th>elo_percentile</th>\n",
       "      <th>elo_rank</th>\n",
       "      <th>elo_10_rating</th>\n",
       "      <th>elo_10_percentile</th>\n",
       "      <th>...</th>\n",
       "      <th>elo_310_percentile</th>\n",
       "      <th>elo_360_rating</th>\n",
       "      <th>elo_360_percentile</th>\n",
       "      <th>elo_410_rating</th>\n",
       "      <th>elo_10_rank</th>\n",
       "      <th>elo_60_rank</th>\n",
       "      <th>elo_110_rank</th>\n",
       "      <th>elo_160_rank</th>\n",
       "      <th>elo_210_rank</th>\n",
       "      <th>elo_260_rank</th>\n",
       "    </tr>\n",
       "  </thead>\n",
       "  <tbody>\n",
       "    <tr>\n",
       "      <th>74414</th>\n",
       "      <td>ren yi xie</td>\n",
       "      <td>6.0</td>\n",
       "      <td>ifbb professional league china dms pro shanghai</td>\n",
       "      <td>2024-03-01</td>\n",
       "      <td>men's physique</td>\n",
       "      <td>1500.000000</td>\n",
       "      <td>0.5625</td>\n",
       "      <td>4.0</td>\n",
       "      <td>1500.000000</td>\n",
       "      <td>0.5625</td>\n",
       "      <td>...</td>\n",
       "      <td>0.6875</td>\n",
       "      <td>1500.000000</td>\n",
       "      <td>0.6875</td>\n",
       "      <td>NaN</td>\n",
       "      <td>4.0</td>\n",
       "      <td>4.0</td>\n",
       "      <td>4.0</td>\n",
       "      <td>3.0</td>\n",
       "      <td>3.0</td>\n",
       "      <td>3.0</td>\n",
       "    </tr>\n",
       "    <tr>\n",
       "      <th>74415</th>\n",
       "      <td>xingwang yang</td>\n",
       "      <td>5.0</td>\n",
       "      <td>ifbb professional league china dms pro shanghai</td>\n",
       "      <td>2024-03-01</td>\n",
       "      <td>men's physique</td>\n",
       "      <td>1500.000000</td>\n",
       "      <td>0.5625</td>\n",
       "      <td>5.0</td>\n",
       "      <td>1500.000000</td>\n",
       "      <td>0.5625</td>\n",
       "      <td>...</td>\n",
       "      <td>0.6875</td>\n",
       "      <td>1500.000000</td>\n",
       "      <td>0.6875</td>\n",
       "      <td>NaN</td>\n",
       "      <td>5.0</td>\n",
       "      <td>5.0</td>\n",
       "      <td>5.0</td>\n",
       "      <td>4.0</td>\n",
       "      <td>4.0</td>\n",
       "      <td>4.0</td>\n",
       "    </tr>\n",
       "    <tr>\n",
       "      <th>74416</th>\n",
       "      <td>abdullah al salem</td>\n",
       "      <td>4.0</td>\n",
       "      <td>ifbb professional league china dms pro shanghai</td>\n",
       "      <td>2024-03-01</td>\n",
       "      <td>men's physique</td>\n",
       "      <td>1530.254944</td>\n",
       "      <td>0.8750</td>\n",
       "      <td>2.0</td>\n",
       "      <td>1500.646795</td>\n",
       "      <td>0.7500</td>\n",
       "      <td>...</td>\n",
       "      <td>0.8750</td>\n",
       "      <td>1512.350775</td>\n",
       "      <td>0.8750</td>\n",
       "      <td>NaN</td>\n",
       "      <td>3.0</td>\n",
       "      <td>3.0</td>\n",
       "      <td>2.0</td>\n",
       "      <td>2.0</td>\n",
       "      <td>2.0</td>\n",
       "      <td>2.0</td>\n",
       "    </tr>\n",
       "    <tr>\n",
       "      <th>74417</th>\n",
       "      <td>yiming wei</td>\n",
       "      <td>3.0</td>\n",
       "      <td>ifbb professional league china dms pro shanghai</td>\n",
       "      <td>2024-03-01</td>\n",
       "      <td>men's physique</td>\n",
       "      <td>1513.489760</td>\n",
       "      <td>0.7500</td>\n",
       "      <td>3.0</td>\n",
       "      <td>1519.870221</td>\n",
       "      <td>1.0000</td>\n",
       "      <td>...</td>\n",
       "      <td>0.5000</td>\n",
       "      <td>1451.684278</td>\n",
       "      <td>0.5000</td>\n",
       "      <td>NaN</td>\n",
       "      <td>1.0</td>\n",
       "      <td>2.0</td>\n",
       "      <td>3.0</td>\n",
       "      <td>5.0</td>\n",
       "      <td>5.0</td>\n",
       "      <td>5.0</td>\n",
       "    </tr>\n",
       "    <tr>\n",
       "      <th>74419</th>\n",
       "      <td>carlos asiedu ocran</td>\n",
       "      <td>1.0</td>\n",
       "      <td>ifbb professional league china dms pro shanghai</td>\n",
       "      <td>2024-03-01</td>\n",
       "      <td>men's physique</td>\n",
       "      <td>1408.432332</td>\n",
       "      <td>0.3750</td>\n",
       "      <td>6.0</td>\n",
       "      <td>1482.297860</td>\n",
       "      <td>0.3750</td>\n",
       "      <td>...</td>\n",
       "      <td>0.3750</td>\n",
       "      <td>1314.684267</td>\n",
       "      <td>0.3750</td>\n",
       "      <td>NaN</td>\n",
       "      <td>6.0</td>\n",
       "      <td>6.0</td>\n",
       "      <td>6.0</td>\n",
       "      <td>6.0</td>\n",
       "      <td>6.0</td>\n",
       "      <td>6.0</td>\n",
       "    </tr>\n",
       "  </tbody>\n",
       "</table>\n",
       "<p>5 rows × 31 columns</p>\n",
       "</div>"
      ],
      "text/plain": [
       "           competitor_name  placing  \\\n",
       "74414           ren yi xie      6.0   \n",
       "74415        xingwang yang      5.0   \n",
       "74416    abdullah al salem      4.0   \n",
       "74417           yiming wei      3.0   \n",
       "74419  carlos asiedu ocran      1.0   \n",
       "\n",
       "                                          contest_name contest_date  \\\n",
       "74414  ifbb professional league china dms pro shanghai   2024-03-01   \n",
       "74415  ifbb professional league china dms pro shanghai   2024-03-01   \n",
       "74416  ifbb professional league china dms pro shanghai   2024-03-01   \n",
       "74417  ifbb professional league china dms pro shanghai   2024-03-01   \n",
       "74419  ifbb professional league china dms pro shanghai   2024-03-01   \n",
       "\n",
       "             division   elo_rating  elo_percentile  elo_rank  elo_10_rating  \\\n",
       "74414  men's physique  1500.000000          0.5625       4.0    1500.000000   \n",
       "74415  men's physique  1500.000000          0.5625       5.0    1500.000000   \n",
       "74416  men's physique  1530.254944          0.8750       2.0    1500.646795   \n",
       "74417  men's physique  1513.489760          0.7500       3.0    1519.870221   \n",
       "74419  men's physique  1408.432332          0.3750       6.0    1482.297860   \n",
       "\n",
       "       elo_10_percentile  ...  elo_310_percentile  elo_360_rating  \\\n",
       "74414             0.5625  ...              0.6875     1500.000000   \n",
       "74415             0.5625  ...              0.6875     1500.000000   \n",
       "74416             0.7500  ...              0.8750     1512.350775   \n",
       "74417             1.0000  ...              0.5000     1451.684278   \n",
       "74419             0.3750  ...              0.3750     1314.684267   \n",
       "\n",
       "       elo_360_percentile  elo_410_rating  elo_10_rank  elo_60_rank  \\\n",
       "74414              0.6875             NaN          4.0          4.0   \n",
       "74415              0.6875             NaN          5.0          5.0   \n",
       "74416              0.8750             NaN          3.0          3.0   \n",
       "74417              0.5000             NaN          1.0          2.0   \n",
       "74419              0.3750             NaN          6.0          6.0   \n",
       "\n",
       "       elo_110_rank  elo_160_rank  elo_210_rank  elo_260_rank  \n",
       "74414           4.0           3.0           3.0           3.0  \n",
       "74415           5.0           4.0           4.0           4.0  \n",
       "74416           2.0           2.0           2.0           2.0  \n",
       "74417           3.0           5.0           5.0           5.0  \n",
       "74419           6.0           6.0           6.0           6.0  \n",
       "\n",
       "[5 rows x 31 columns]"
      ]
     },
     "execution_count": 84,
     "metadata": {},
     "output_type": "execute_result"
    }
   ],
   "source": [
    "df_pro_open.tail()"
   ]
  },
  {
   "cell_type": "code",
   "execution_count": 85,
   "metadata": {},
   "outputs": [
    {
     "data": {
      "text/plain": [
       "<Axes: >"
      ]
     },
     "execution_count": 85,
     "metadata": {},
     "output_type": "execute_result"
    },
    {
     "data": {
      "image/png": "[encoded data removed]",
      "text/plain": [
       "<Figure size 640x480 with 1 Axes>"
      ]
     },
     "metadata": {},
     "output_type": "display_data"
    }
   ],
   "source": [
    "(df_pro_open[df_pro_open['placing'] == 1]['placing'] - df_pro_open[df_pro_open['placing'] == 1]['elo_rank']).plot.box()"
   ]
  },
  {
   "cell_type": "code",
   "execution_count": 86,
   "metadata": {},
   "outputs": [],
   "source": [
    "test_competition = df_pro_open[(df_pro_open['contest_name'] == 'ifbb pittsburgh pro') & (df_pro_open['contest_date'] > '2023-01-01') & (df_pro_open['division'] == 'bikini')]"
   ]
  },
  {
   "cell_type": "code",
   "execution_count": 88,
   "metadata": {},
   "outputs": [],
   "source": [
    "test_competition = test_competition.dropna()"
   ]
  },
  {
   "cell_type": "code",
   "execution_count": 90,
   "metadata": {},
   "outputs": [
    {
     "name": "stdout",
     "output_type": "stream",
     "text": [
      "68916     1.0\n",
      "68915     2.0\n",
      "68914     3.0\n",
      "68913     4.0\n",
      "68912     5.0\n",
      "68911     6.0\n",
      "68910     7.0\n",
      "68909     8.0\n",
      "68908     9.0\n",
      "68907    10.0\n",
      "68906    11.0\n",
      "68905    12.0\n",
      "68904    13.0\n",
      "68903    14.0\n",
      "68902    15.0\n",
      "68901    16.0\n",
      "68900    16.0\n",
      "Name: placing, dtype: float64\n",
      "68916     2.0\n",
      "68915     1.0\n",
      "68914     3.0\n",
      "68913     5.0\n",
      "68912    11.0\n",
      "68911     4.0\n",
      "68910    10.0\n",
      "68909     8.0\n",
      "68908     6.0\n",
      "68907     7.0\n",
      "68906    12.0\n",
      "68905    16.0\n",
      "68904     9.0\n",
      "68903    14.0\n",
      "68902    13.0\n",
      "68901    16.0\n",
      "68900    16.0\n",
      "Name: elo_60_rank, dtype: float64\n"
     ]
    }
   ],
   "source": [
    "y_true = test_competition['placing']\n",
    "y_predict = test_competition['elo_60_rank']\n",
    "print(y_true)\n",
    "print(y_predict)"
   ]
  },
  {
   "cell_type": "code",
   "execution_count": 93,
   "metadata": {},
   "outputs": [
    {
     "data": {
      "text/plain": [
       "0.9786312083616421"
      ]
     },
     "execution_count": 93,
     "metadata": {},
     "output_type": "execute_result"
    }
   ],
   "source": [
    "ndcg_score([y_true], [y_predict], ignore_ties=True)"
   ]
  }
 ],
 "metadata": {
  "kernelspec": {
   "display_name": ".venv",
   "language": "python",
   "name": "python3"
  },
  "language_info": {
   "codemirror_mode": {
    "name": "ipython",
    "version": 3
   },
   "file_extension": ".py",
   "mimetype": "text/x-python",
   "name": "python",
   "nbconvert_exporter": "python",
   "pygments_lexer": "ipython3",
   "version": "3.10.12"
  }
 },
 "nbformat": 4,
 "nbformat_minor": 2
}
